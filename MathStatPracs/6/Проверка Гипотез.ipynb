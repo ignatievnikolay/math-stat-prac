{
  "nbformat": 4,
  "nbformat_minor": 0,
  "metadata": {
    "colab": {
      "name": "hw6.ipynb",
      "provenance": [],
      "collapsed_sections": []
    },
    "kernelspec": {
      "display_name": "Python 3",
      "language": "python",
      "name": "python3"
    },
    "language_info": {
      "codemirror_mode": {
        "name": "ipython",
        "version": 3
      },
      "file_extension": ".py",
      "mimetype": "text/x-python",
      "name": "python",
      "nbconvert_exporter": "python",
      "pygments_lexer": "ipython3",
      "version": "3.8.3"
    },
    "widgets": {
      "application/vnd.jupyter.widget-state+json": {
        "3d066fb58bef42b3a21a698ffb3b86e7": {
          "model_module": "@jupyter-widgets/controls",
          "model_name": "VBoxModel",
          "state": {
            "_view_name": "VBoxView",
            "_dom_classes": [
              "widget-interact"
            ],
            "_model_name": "VBoxModel",
            "_view_module": "@jupyter-widgets/controls",
            "_model_module_version": "1.5.0",
            "_view_count": null,
            "_view_module_version": "1.5.0",
            "box_style": "",
            "layout": "IPY_MODEL_a4d9c3ebcda248ac9ba59dd66723cbd4",
            "_model_module": "@jupyter-widgets/controls",
            "children": [
              "IPY_MODEL_71e6a2327d894a92ab203ce2173abeb2",
              "IPY_MODEL_759f3ebb24f7485ca5a5f0204747e7b7",
              "IPY_MODEL_4cea953148e44b2b9fe7cb9a38b0f329",
              "IPY_MODEL_162195898eca45ba88d7bf3eb3afd9b1"
            ]
          }
        },
        "a4d9c3ebcda248ac9ba59dd66723cbd4": {
          "model_module": "@jupyter-widgets/base",
          "model_name": "LayoutModel",
          "state": {
            "_view_name": "LayoutView",
            "grid_template_rows": null,
            "right": null,
            "justify_content": null,
            "_view_module": "@jupyter-widgets/base",
            "overflow": null,
            "_model_module_version": "1.2.0",
            "_view_count": null,
            "flex_flow": null,
            "width": null,
            "min_width": null,
            "border": null,
            "align_items": null,
            "bottom": null,
            "_model_module": "@jupyter-widgets/base",
            "top": null,
            "grid_column": null,
            "overflow_y": null,
            "overflow_x": null,
            "grid_auto_flow": null,
            "grid_area": null,
            "grid_template_columns": null,
            "flex": null,
            "_model_name": "LayoutModel",
            "justify_items": null,
            "grid_row": null,
            "max_height": null,
            "align_content": null,
            "visibility": null,
            "align_self": null,
            "height": null,
            "min_height": null,
            "padding": null,
            "grid_auto_rows": null,
            "grid_gap": null,
            "max_width": null,
            "order": null,
            "_view_module_version": "1.2.0",
            "grid_template_areas": null,
            "object_position": null,
            "object_fit": null,
            "grid_auto_columns": null,
            "margin": null,
            "display": null,
            "left": null
          }
        },
        "71e6a2327d894a92ab203ce2173abeb2": {
          "model_module": "@jupyter-widgets/controls",
          "model_name": "IntSliderModel",
          "state": {
            "_view_name": "IntSliderView",
            "style": "IPY_MODEL_4169618a1d9f4ba8b0b269f531b277db",
            "_dom_classes": [],
            "description": "outliers_num",
            "step": 1,
            "_model_name": "IntSliderModel",
            "orientation": "horizontal",
            "max": 10,
            "_view_module": "@jupyter-widgets/controls",
            "_model_module_version": "1.5.0",
            "value": 10,
            "_view_count": null,
            "disabled": false,
            "_view_module_version": "1.5.0",
            "min": 1,
            "continuous_update": true,
            "readout_format": "d",
            "description_tooltip": null,
            "readout": true,
            "_model_module": "@jupyter-widgets/controls",
            "layout": "IPY_MODEL_bc7a6f25b8b34a81aa688b588c3ccc97"
          }
        },
        "759f3ebb24f7485ca5a5f0204747e7b7": {
          "model_module": "@jupyter-widgets/controls",
          "model_name": "FloatSliderModel",
          "state": {
            "_view_name": "FloatSliderView",
            "style": "IPY_MODEL_c134b723ca0a4d24b759f20769b514a9",
            "_dom_classes": [],
            "description": "outlier_bias",
            "step": 0.1,
            "_model_name": "FloatSliderModel",
            "orientation": "horizontal",
            "max": 300,
            "_view_module": "@jupyter-widgets/controls",
            "_model_module_version": "1.5.0",
            "value": -300,
            "_view_count": null,
            "disabled": false,
            "_view_module_version": "1.5.0",
            "min": -300,
            "continuous_update": true,
            "readout_format": ".2f",
            "description_tooltip": null,
            "readout": true,
            "_model_module": "@jupyter-widgets/controls",
            "layout": "IPY_MODEL_68d2774f903c4ea490c835d90aa02ad2"
          }
        },
        "4cea953148e44b2b9fe7cb9a38b0f329": {
          "model_module": "@jupyter-widgets/controls",
          "model_name": "CheckboxModel",
          "state": {
            "_view_name": "CheckboxView",
            "style": "IPY_MODEL_26f4e94aa9944afaa20e6dbc6bf5f92b",
            "_dom_classes": [],
            "description": "show",
            "_model_name": "CheckboxModel",
            "_view_module": "@jupyter-widgets/controls",
            "_model_module_version": "1.5.0",
            "value": true,
            "_view_count": null,
            "disabled": false,
            "_view_module_version": "1.5.0",
            "indent": true,
            "description_tooltip": null,
            "_model_module": "@jupyter-widgets/controls",
            "layout": "IPY_MODEL_168d80a1f95d4e4fbc276ae928ef8526"
          }
        },
        "162195898eca45ba88d7bf3eb3afd9b1": {
          "model_module": "@jupyter-widgets/output",
          "model_name": "OutputModel",
          "state": {
            "_view_name": "OutputView",
            "msg_id": "",
            "_dom_classes": [],
            "_model_name": "OutputModel",
            "outputs": [
              {
                "output_type": "display_data",
                "metadata": {
                  "tags": [],
                  "needs_background": "light"
                },
                "image/png": "iVBORw0KGgoAAAANSUhEUgAAAvUAAAIYCAYAAADtmBPRAAAABHNCSVQICAgIfAhkiAAAAAlwSFlzAAALEgAACxIB0t1+/AAAADh0RVh0U29mdHdhcmUAbWF0cGxvdGxpYiB2ZXJzaW9uMy4yLjIsIGh0dHA6Ly9tYXRwbG90bGliLm9yZy+WH4yJAAAgAElEQVR4nOzdebxd873/8dfJySADEkOI0IqWr7Qh9FDXTE1VtHIv2lJaeluloWLmFqn60d7W1FBjS2hV0AkXN6ho9ZZyTI3GV2mQxhAipszD+f3xXftkn52999knZ1zJ6/l4nMfOWeu71vruIcl7ffdnfVddU1MTkiRJkvKrV3d3QJIkSVL7GOolSZKknDPUS5IkSTlnqJckSZJyzlAvSZIk5ZyhXpIkSco5Q70kqVuEEKaEEKZ08D43DSE0hRC+1pH7laSernd3d0CS2iILazcULVoKvAHcD3w3xjizO/qlrhVCOB6YF2O8sbv7UosQQi/gVOBbwEbAi8APYoy/qGHbQcBpwPbZz3rAWTHGH5Rp+2ngq8Cnga2BvsCwGOMbJe3WBi4DdgA2BuqAl4CfA1fHGBcVtZ0C7F6lixv7907qfoZ6SXk1nhRC1gB2Bo4Cdg8hjIoxzuvOjqlLHA+8DdxYsvwVoD+wuKs71Ir/B5wJXA/8FfgCcHMIoSnG+MtWtl0POBf4F/AUsE+Vtp8DvglMBV4ARlVotxawBXAn8CqwDNiJFPR3Ar5U0vfrS7avB64DXjDQSz2DoV5SXv1vjPHR7M/XhxDeAU4mhaVfdUUHQggDY4xzu+JYPUW15xxCGNDdJ1QxxiZgQXf2oVQIYThwCmkE/Lhs2fXAw8CPQgiTYoxLquzidWB4jPG1EMKmwPQqba8CfhhjnB9CGE+FUB9jnEE6GS52dQjhPWBsCOHUGOO/srb3l3lO+wN9gFa/aZDUNQz1klYVfyCF+hGFBSGEw4FxpGCzAHgAOD3GOL2oza7AWODfgA2Bd4C7gTNijO8UtRsPnAdsBZwBHAC8B4zIyiPGA/9BKq14H3gOODfG+MeiffwHcBbwSWAeMDk7zqtFbW4kjZJ+DLgS2BuYD0zM2i5t7YUIIWyX9XVn0jcZ/wR+GWO8qKjN7sD5wHbAEuBPwJkxxqk1Pucp2ev1JeBSUrnH7cDXQgh12Wv6TWDz7PW4K+v/2630/RRgDLAlMAj4B3B5jPH6ojYvAx/N/tyULX4lxrhpUeg9urg0J4QwGrgI2IU0yvw4cE6M8U9Fbb5GKu3ag3RyeCQwgPQ+fTPG+Fa1vlfxBVIAvqqwIMbYFEK4Crgl69OUShvHGBcCr9VyoBjjmyvZx4JXsse1Sd8MVPIVoAlo7VsGSV3EC2UlrSo+lj3OBgghnEkaRZxOGiX9MSk8/TmEsH7RdoeSAsy1pCB6Bymw/E8WTktNAoYA3wUuz5ZdBZwA/JZUFvJD4C1gdGGjEMJXsn1DCvZXAwdm/Vmv5Bi9gPuy53IqaUT3FFJIriqEsBfwSHbsCaSTmsnA54va7Ek6wRlGOhn5MSnc/zmEsEWNzxlgMPC/wLTsOPcUvR6XAI8B3yG9tocAD4UQ1mjlKYwjlY6cT6ojfxO4LoTwraI2J5EC5/Ok4H1ktqysEMJI0knLtsCPsue8EfBACGG3MptcRnr9vpc9l4OAK1rpdzXbAguBv5Us/2vR+m4RQugXQlgvhPCR7KTzNFI5zgtVthlIOlH5YzbiL6kHcKReUl6tnYXhQk39uaQR7btDCB8Bvg+MjzGeX9gghHAraQR9HHB2tvjM0pKREMJfSCOQO5MCcrHnY4z/UbLsQOC6GOPJ5ToaQuhDCs7TgF1jjPOz5fcDD5FqrU8t2qQPcHtR368OITwJfJ2i0d4yx+lFCtBvAduUfNNQfIJyMWnEfccYY+EkqPDaXEgK4K09Z4ANgO/EGH9SdJydgGOBr8YYbypafh8pWB+V9bGSLUrejwkhhMmk1+dqgBjj70IIFwBv13KhKakmfA2gIcb4j6w/N5BOCi4hndAUmw3sk5XyFF7XE0MIa8cY36vheKWGAW8W9lfk9exxo5XYZ0c5klQbX/AEcEyMsdo1CWOAgcDNndkxSW3jSL2kvLqPFF5nALeSRnQPyi7a+3fSoMWkbBRyvewE4D3SaOmehZ0UAmQIoS6EsFbW7v+y1Q1ljlsuVL8H7JDVTpezHSkAX1UI9NmxpwCNpLKWUteV/P4nYLMK+y/4VNbm8uJAnx2rEFCHkUaGJxYCfbb+H6SLJj8bQqgv2W+lE4klrBjQDwM+BO4ree2fJ71He1JF0fvRJ4SwTrbtQ8DHshlb2iR7LvsBdxUCfXacwkW2DSGEDUo2+1lJAP8TqWTno209fqY/aaS+1IKi9d3lHtKFt4eRPnOLSWVP1XyF1Pc7WmknqQs5Ui8pr04kjXwvIJULzCgKYoUSkucrbPvPwh9CCJuQSjI+B6xZ0q5ciHypzLLTSDXvr4YQniKdcNwcY4zZ+kIYjGW2ncaKI+OLY4yvlyybQyqBqaZQgjS1SpvW+vIfpNlWimuzyz1ngNdijKUXpW5BCoWVaruHVukbIYQvAOcA25CCdLG1SSdQbbE+qS6+0vMF2JSW/X21pN2c7LHi65+dPKxfsvidbGrI+UC/MpsVSpHml1nXJWKMr7G8Xv/2EMJ3gckhhM1Lp8EEyE6A9gZ+u5LfWkjqJIZ6SXn1eNHsN6UK30LuTxpNLlUof6kn1ZuvT7qIchowl+U17eW+zVwhgMUYbw8h/IlUZ7wv6YTj9BDC12KMt9T8jJZbthLbdKZKobPc8l6k8pUvlVkHywPyCkIIu5CuS3iENJ/7a8Ai0gnXOLru2+VKFyOXu8aiYBNWnJVmT9IFsK8De4cQesUYi9/bYdljTRfBdpHbSKVrXwCuKbP+y6STLWe9kXoYQ72kVVFhZPnVGOPfq7TbijTLytdijBMLC0MIm7f1gNmo5jXANSGEwcCjpAstb2H5jCKBdBJRbEvg5bYer4LC8x5FOikpp7gvpbYkndRUnaGmhj7sAzwaY/ywjdseQvrmZd/ibwCyC3tLldanV/IWaaahSs8XOub1f4MV549/Jnt8GvhP0vvybNH6HYrW9xSFUqBKpU5HkE7a7qmwXlI3saZe0qro16TR1nPLzWBTNNtMYUS2tM2p1CiEUF9a6x1jfJc0ajs4W/QEqbzj2OLZX7LpNLcjTaHZEZ4klRZ9J4SwTkk/67K+vZ61O6q4TQjhY6QZcu6tZdrMKiaR/m85t3RF9lpVKyFaSgrrzf83Ze2PKdN2Lq2XI5E9l/uAg7LnWNjvOqQ7rz7RAdNAEmNcEGN8oOSn8K3E70m16scVHb+O9G3EGxRdjJ1dg7BlCGFAe/tUTckMUMUKMyw9UWabQPq83tbKhbSSuoEj9ZJWOTHGf2ZTWv4I+GgI4XfAu6Q57L9ACp7jSTX3/wAuDiFsTJqjfn9g4zYcbk1gZgjh16SR2fdJs+Z8lmwaxBjj4hDCacBNwJ9CCL8glfycCMwkTYHZbjHGZdnUj/8DPB1C+DmptOPjWZ8KNxs6lfSNwV9CCNeRaru/TRol/6929uGPIYQrgdNCCFuTprxcmPXhEFLYv7HC5neR7jVwfwjhZmAd4Buk4LthSdsngONDCOeRpl/8MMZ4V4X9fpdUFvVI1rcF2X4Hs+L1DB0uxvivEMJlpNeknuV3lN2VNEtQcUAeS7o3QKF0B4AQwtisv4UTxT1DCIX/wycU6ttDCB8lzWgDUJiu86QQwoekufwLM9Z8O4QwhvRZeZk0Mr9/dty7Yox/KPNUvpI9Wnoj9UCGekmrpBjjj0MI/yCFxO+SRn//RbpJ1e1Zm8UhhINIc6+fRhopvo8UyFe4SLCCeaSbRO1DGunuQxqlP5WiOd1jjDeHEOaR5qj/YbbdPdRwQ6a2iDHen91Y6jzSc68njd7/oqjNQyGEfUhzwZ9Py5tPVZyfvA19GJtNwfkt0nSSS0gXn95Gev0rbTclhPBV0mt0Gen9mkCqw/95SfPzSXXsJwNrkcqKyob6GOO0rF7/ItJNtHqRTgq+UXxzsE52Jumk8VjSNwQvUjLtZytOpeXsO/tmP5De28JFqyNINfHFzsgeH2b5NJQPAFuTgvoGpG8SCvcbqDQn/+HAP2OM/1dhvaRuVNfUVGtZoiRJkqSeyJp6SZIkKecM9ZIkSVLOGeolSZKknDPUS5IkSTlnqJckSZJyzlAvSZIk5ZyhXpKUOyGEPUIITSGEPTp4vzeGEF7uyH1KUlfw5lOSerwQwkDSTXEOAzYj3ShnJvBn4NIY4/Pd2D3lTAjhE6TP0o0xxpe7uTsthBB2It2crAH4ALiDdIOyD2vcfk3SXYEPA4YDs4FHga/HGOcUtduTdIOy7Uk3B3sEOD3G+FyVffch3TV5JHBWjPEHReu2BI4h3RDrY8CHwJPAeTHGJ2p68pLaxZF6ST1aFiQeJt0V9jHSnTXPJwX6A4B/677eKac+QQq0m5ZZ9w0gdGlvMiGEbYAHgUHAKcB1pKD82xq3X5t0Z+BvAJOA40h35q0HBhS12x+4HxhMOgG4ENgKeCSEsHmVQ5wAfKTCuv/MjvtE1vdLSK/jo9ndiyV1MkfqJfV0B5NGLY+OMd5YvCKE0BtYuzs6VYsQwsAY49zu7kdPEUKoA9aIMc4vs64vsCzGuKTre7ZcjHFxNx7+QuA9YI8Y43sAWSnQdSGEz8UY72ll+4uAjwKfijFOr9LuR8AMYMfCexFC+AUQsz4cWrpBCGEocC7pW4Tzy+zzV8D44m8UQgg/B6Zl7e9vpe+S2slQL6mn+1j2+KfSFVkAnF34PYQwnjQC+0nSyP4BwDLgNuCU0hKGEMK+pJHKhmzRI8CZMcani9psTSr92Y1UzvAh8ACpVOHVonZfA24A9iKdiHwRGArUhRBuBL4EbAH8FNgDeB/4QYzxJyGETwI/IX3rMBv4rxjjzUX7Xgc4C9gPGAHUkUZEz4kx/qmo3abA9KztbOBMYGPgWeD4GOPjpa9hqSxcnw58JTvWu6TyjbMLpRkhhAHA97LnuAHwKvAz4L9jjMuK9tUEXAM8RHo/AvDNLKg+lB1jc9Jo9HDSe/1yCGEL4ILstRxICob/L8Z4Ryt9b/W9KnqfAB4KoXlQ/ugY443Ze7VHjHHTov3Wk17Lo4FNgDeBW0mlJfOL2r0MPJ/1/RJga+A1Uti9qZW+rwXsA0woBPrMTcClpHKaiqE+hDA4699PYozTs/exV4xxQUm7IaS/H5cV9z3GODOEMAU4qMLJ6A9Iof8XlAn1McbGMstmhxD+BOxd+ZlL6iiW30jq6V7OHo/KRnprcSswBDibVJP8TVKwbxZCOBy4D1hACsHjSfX6f8rqgwv2IYXRm0jlB9cDnwWmZOG21ATgU8D/I41sFvQihbKZwGnAP4HLQwhHA/9Lqj8+gxT2bwwhfLxo282AQ4B7SeVH3wc2Ah7IgmypL5KC+TWkML0p8JuslKmiEEIv4K5s/88CJwMXA33JTnyy9+B3WT/uJ4XoZ0mjxD8ts9vdgCuBXwMnkkJvwdnAfwCXZ8/9wxDCSFKZ1VbAf5NKOWYDt4cQvlKt/9T2Xv2RdAIFaVT6yOznj1X2ew0pqD+TPd8HSO/hr8t8JkeQPnP3Z32fQ3o/P9lK37ciDbS1qD+PMS4Cnga2bWX7XYA1gBdDCHcA84D5IYRHQwgNRe36ZY/zyuxjXrZ+q+KFIYRPA18FTgKaWulHqQ2Bt9u4jaSV4Ei9pJ7ud6QgeC5wdDaa+AjwPzHGmRW2mQl8LsbYBBBCeB04J4Swd4zxgezC2ytIF0oeU9gohPAz0mjkucDh2eKrYowXF+88hHAnqab/30kjl8U+JI30lpaR9AEmxRi/n+3jV6RR3J8BR8YYf5ktvz97vl8jBXKAvwEfKxkFvzZrdyKpnrnYJsDmhQsjQwgR+D1ppP/uCq8ZwFGkCx1PjzH+qGj5fxeF14NI4Xl8jPF72bKfhhBuAI4NIVwRY5xatO2WpHKQ4m8/9sj+uCYwsnhUOIRwS/a6bFc0knxlCGEy8IMQwi8L72sZrb5XMcZ/ZqPHJwL3xxinVHk9CqP/Xyd9Vo4uWv4q6VuhA2j5mm4B7B5j/GPW7jZSqcvRpBOhSoZlj6+XWfc66XWsplALfxHwEum9XJP0Wf5DCGHrGOMrwCzSty+7ljzPvsAO2a/Di5bXkU5UJ8UY/5J9G1STEMKuwI5ZnyR1MkfqJfVoWfnALsCPSWUnR5JGTmeEEH6RlS2UuqIk+BVGZg/MHvchjeTfEkJYr/BDuqDwT8CeRcdvHtEMIQwKIawLvEAKRsUjoAXXVakLv75ov++STiAWkOqRC8tjtu/NipYtLAT6EMIaWR/qgccr9OHXxTOdsLx0abMybYsdQhpZvrx0RdHrWShpKm1zcdH6Yv9XHOhL3FQS6NchlWrcBgwseW/uI4XNLSp1fiXeq1oUns8lJcsvBZay4vN9oRDosz69RXqfW3vt+2ePC8usW1C0vpJB2WMTsFeM8ZYY4zVZ/9YkjbKTfY5+CuwaQrg0JFsDv2T5iUXxsb5GGrk/o5Xjt5DV4N9CKgcz1EtdwJF6ST1ejHE2qdzhtBDCxqSSju8AR5AC5lElm/yjZPu3QwhzWD7bSSEYVrp4r3hEfAipnvgQYJ2SduUu0n2pwj4XxxhLR2HfA2YWj8AXLR9S1IdepHKab5LKO4qVuyDy1eJfYoxzstrxIWXaFvsYKZQuqtLmo8Cb2UlJi8OQXrdNS5ZXej3Krfs46cRtfPZTztDsWCtYifeqFh8lBeUXihfGGN/LvgHatKT9q6xoDq2/9oVvJfqVWbdG0frWtr+r+NqRGOPTIYTngJ2L2o4nvT4nkoV90gnij0glUR9Ac53/RcCPYowzWjl+s+ybsLtJJxO71Dodp6T2MdRLypUY479II+x3AM8BXwohHNPGWVMK31J+jVSqU81tpEB0MfAUKfA0ker2y33bWSl8lQb3gqUVlhfXap9FqumeSCrJmZ1tdxbLLyRu6z67SrUwWrqu8HpeSuWLQqdWWA5tf686w8q+9oUTvmFl1g0jlSRVU1j/Zpl1b5JOToDmGX6OCyGcQyrreTfGODWEUBhRL5zAnEq6nmJSUdnNxtnjkGzZa8UngVkZz29IFwnvV1KKJakTGeol5VKMcVEI4RnS6O56wBtFqzenaGQ1K98YwvKLbgsjxG/FGB+odIxs5HdvWtaPE0JYg9ZHXjvSocCUGOPXSvr3vfLNV9pLwE4hhL5VRutfAfYJIaxdMkvLFqTg/HI7jv/P7HFJtfelnDa+V2252PMVUiDfgnRtQ2G/a5HCdrVrFNpiKukmUNuRylYKx+kLbEMKytUUZp8ZXmbdxsBbpQtjjG+Trk8p2IdU/1/4JuQjpNeu3A2pTs9+tie7uDf7Rukm0qxFh8UYH26lz5I6kDX1knq0EMLoEML6ZZYPJl2E9w4rBpaxJbOSnJg9/k/2+L+kOuuzs9BUuu/C8QqjrqWjrOPo2n8/l5b2IaQ7j+7Ywce5gxTivlO6ouj1vJv03E8saXJy9vg/rKQY4yzSVJffCCGsEE7LfQ6KtOW9KtTx13JiVng+J5Us/w7puoYOCfXZCdIDwOEl14kcSaqXv72wIITQJ4SwZQhhWNH2kTQ7zxeyk9hC211JMwJVnSc+hHAE6bqDS4rKwX4CjCn5OTZbd3P2+4tFu5lAmnnp+BhjaychkjqYI/WSerp9gO+HEO4C/kKqN9+EVEe/EXBCjLG05GE4cE8I4W5gNOlOl5NjjPcDxBjfDyF8i3Rx4FPZTDRvkkYmP0samfxa1m4KcHoW/l8hXbS7O0Xz43eBO4HxIYSbSBe9bk6qr/87yy+Q7Ag3k+aO/+8QwnakaR7XIF04PClbfzcpIH4vhPBR0lScnyFNTXlNB5RbHEearebZEMJ1pG8PhpJmZvkE6ZuZFbTxvXqKrHwpOzmcDzxW7oZNMcZns1mRvh7SHVv/QJqy9BjSxbut3RCqLf4L+D/g4RDCNaTP8anZMYtPloaT5u6fSCohKxgHTAb+nG0/KFv2CunOsgBkU4MeSnp/3yO9TkeS3tsJhXYxxidJ7y9F226a/fHvMcbfFS0/CTie9Hd0XpnpR3/rjdikzuVIvaSe7tekix+Hk2bguIY0SvxPYEyM8Yoy23yZdHHihaSb9lxPyV0yY4yTSGH1VdJ84j8hTWM5LTtGweGksHMs6ULCIaQQ25UX/11EmrP9M1k/9yTdzOqJahu1VXZydCBpnvoGUm37aaSykMasTRNphPYS0gnQZaTykLOBb3dAHyKpBOVO0onblaSw2Bs4p5XNa3qvYoxvkk70hgDXkWYf2r3Kfo8lXcuwLen57keajenfq0yv2WZZiN6b9E3CpcC3SDfKGlPLcWKMD5Hek9mk+ySMI5147FIyG9ILpAuHzyZN7bod6X0eU+YEuVbbZI87kk7+Sn+qfcsiqQPUNTV12L9HktStwvI7yg6LMb7RSnNJklYZjtRLkiRJOWeolyRJknLOUC9JkiTlnDX17dTY2NiPNE/v61S+6YgkSZLUHvWk+2M83tDQsLB0pVNatt/2pCnmJEmSpM62Ky1vHAcY6jvC6wBbbLEFffuucA8b5czUqVMZNWpUd3dDPZSfD1Xj50PV+PlQNbV8PhYtWsQLL7wAWfYsZahvv6UAffv2pV+/ft3dF3UA30dV4+dD1fj5UDV+PlRNGz4fZcu9vVBWkiRJyjlDvSRJkpRzhnpJkiQp5wz1kiRJUs4Z6iVJkqScc/abLvL+++8za9YsFi9e3N1dURW9e/dm2rRpzb/36dOHoUOHstZaa3VjryRJkqoz1HeB999/nzfffJPhw4fTv39/6urqurtLqmDu3LkMHDgQgKamJubPn8/MmTMBDPaSJKnHsvymC8yaNYvhw4czYMAAA32O1NXVMWDAAIYPH86sWbO6uzuSJEkVGeq7wOLFi+nfv393d0MrqX///pZNSZKkHs1Q30Ucoc8v3ztJktTTGeolSZKknDPUS5IkSTlnqFe3eOyxx7j66qtXWP6b3/yGEALvvPNO87IQAj/72c+6snuSJEm5YqhXt/jrX//KNddcU1PbSZMmcdBBB3VyjyRJkvLLeerV422zzTYdsp8FCxawxhprdMi+JEnS6mdK4wxuuncab8+Zz3pD+nPU/iPZo2GT7u4W4Ei9VsIDDzzAmDFj2Gqrrdhpp50YP348c+fOBcqXzwAceeSRHHvssQBMmDCBK664gnnz5hFCIITAkUceWfF45cpv/vjHP/KlL32J0aNH8+lPf5qzzjqL999/v3n9Y489RgiBhx9+mHHjxtHQ0MC3vvUtAB566CEOOeQQtt12WxoaGhgzZgyTJ0/ukNdGkiStmqY0zuCK25/hrTnzaQLemjOfK25/himNM7q7a4Aj9bkz6+E/8urNv2Th27Ppt966fOTIIxi6+25ddvwHH3yQsWPHst9++3HSSSfxr3/9i0suuYSXX36ZG2+8saZ9HHroobzxxhvcfffdTJw4EYBBgwbV3IcHHniAE044gYMPPpjjjjuOOXPmcNlllzFu3LgVwv8555zDAQccwIQJE6irq+PVV1/lhBNO4IADDmDcuHE0NTURY+S9996r+fiSJGn1c9O901i4eGmLZQsXL+Wme6f1iNF6Q32OzHr4j7x05dUsW7gQgIVvvc1LV6aLTbsq2F9xxRVstdVWXH755c3LhgwZwrhx43jsscdq2seGG27IhhtuSK9evdpcWtPU1MSFF17Ifvvtx0UXXdS8fNNNN+WLX/wiTzzxBNttt13z8t13350zzjij+ff77ruPxYsXc8455zSfSOyyyy5t6oMkSeo8PbXE5e0589u0vKtZfpMjr978y+ZAX7Bs4UJevfmXXXL8uXPnMm3aNPbff/8Wy/fbbz969+7NE0880el9ePnll5k5cyYHHHAAS5Ysaf4ZNWoUgwYN4m9/+1uL9p/5zGda/B5CoL6+nlNPPZUHH3ywRcmOJEnqOFMaZ3DMBZP5/Cm/55gLJtdUptKTS1zWG9K/Tcu7miP1ObLw7dltWt7RPvjgA5qamlhvvfVaLK+vr2fw4MG89957DBs2rFP7UKjVHzt2bNn1r732Wovf11133Ra/jxgxgquvvpprr72WE088EYCdd96Zc845h0026f5RAEmSVgWFcF4oVymEc2CFUffikfm6XnUsW9bUYn1PKXE5av+RLZ4TQL8+9Ry1/8hu7NVyhvoc6bfeuix86+2yy7vCmmuuSV1dHbNntzyJWLp0Ke+++y5rr702/fr1A2Dx4sUt2rz77rsMGDCg3X0YPHgwAOeeey5bb731CutLQ3xdXd0KbXbbbTd222035s6dy5///Gd+8IMfcMopp3Dbbbe1u3+SJK1KVrYUplL9+aW3PgUsD/al4b+pJNAX9IQSl0Kfe2JpEBjqc+UjRx7RoqYeoFe/fnzkyCO65PgDBw5k5MiR3HvvvRx99NHNyydPnsySJUvYbrvt6N07faReeuklNthgAwBmzpzJ9OnT2WijjZq36dOnD4sWLaKpqals8K5ks802Y9iwYbzyyisccUT7nvfAgQPZd999mTZtWvMFu5IkKWnLaHupSiF82bKmFvsoF/7L6SklLns0bNJjQnwpQ32OFC6G7c7Zb8aOHcu3v/1tTj75ZA4++GBmzpzJxRdfzI477sgOO+zAkiVLGD58OBdeeCEnn3wyCxYs4Nprr20eYS/42Mc+xpIlS5g4cSKf+tSnGDRoEJtttlmrx6+rq+Pss89m3LhxzJ8/nz322IOBAwfy+uuv88gjj3DUUUcxevToitvfeuutPPnkk+y2224MHTqU1157jTvuuIOdd9653a+NJEmlCiPdb82Zz/r3zu5RI7utac9sL+sN6c9bFYJ98T5qGYHvSSUuPZmhPmeG7r5bl4b4UnvttRcTJkzgyiuv5Pjjj2fNNdfkwAMP5NRTTwWgd+/eXHnllYwfP55x48ax0UYbcdppp3HDDTe02M+ee+7J4YcfznXXXcfs2bPZfvvtufnmm2vqw7777sv111/P1VdfzamnnkpTUxPDhg1jp512Yvjw4VW3DSEwZdzI4FUAACAASURBVMoUfvjDHzJnzhzWW2899tlnH8aNG7dyL4gkSRW0Z6S7J2jPbC/l6s/L7aNS+O/Vq46mZU09rsSlJ6traipfu6TaNDY2bgpMHzVqVHM9ealp06YxcqRnmHkwd+5cBg4cuMJy30MBNDY20tDQ0N3dUA/l50OQgvy1v/sbH8xbXLFNXgLrMRdMLhu41x/Sn59/d99Wt5/SOINLb31qhQtfi/dReuIDaWR+7KGje+zr0hlq+fdj4cKFTJ06FWBEQ0PDy6XrHamXJEmqUbULR6c0zuDySU+xZGn1AdNCyO3pI/ftne2l8Jyq7aOnX3yaJ4Z6SZK02imude+VTaO4fiuBsrVympvundZqoC9VmBHmklue7HGBtiMCdy376MkXn+aJoV6SJK1WSsN5rSPnlS4cvfiWJ5tPEFZGTx6574jAbWjvGoZ6SZK0yqhlXvVq0yhWm92l2gWitQT6XmVurNSW40vVGOolSVKPsLI3OirevpbZZlqbvaVSQK82TWM19b3q+MIOgxkxYkTVGWFq7Z9UTq/u7oAkSVIhkL81Zz5NLA/kUxpn1LyPavOqF2vtRka9epW/KeJR+4+kX5/6Vvux5oA+Lf580pe2ZesRA9mjYRPGHjqa9Yf0p67KcXrKjZaUL47US5KkbteeGx0V1DqvemtzqFcqkSm+6LPSiH2l6R4bG2c176N4tpz2zC4jFTPUS5K0mmpvuUtHas+NjgoqlceUjnwXnmO1OdQrKYTyjgjkTueojmSolySpm3RHqK50c6S35szn4lue5JJfPUlTE61O71jLcdry3GoN5NW0ZV71WuZQr6ajArkzw6ijGOolSeoGtVzUWWswrnXO9SmNM7js1qdYWmUGlsKN5tszvWKtF6wWa++Njor3XWvQbm8wN5CrJ1ntQ30IYXNgArALMB+4FTgjxjivWzumin7zm99w1lln8Ze//IV11lmnu7sjSa0qF85bqyGvNRi3Nuf6tOmzefz5WamMpW55aK/Fyk6vuDL18d018m0w16pitQ71IYTBwEPAK8AhwFDgEmB94Evd2DVJ0iqiXDi/+JYnK7Yv1JBXCsaX/OrJ5u0Ls6xUm3P9nr+8snxB22522qI/HbFNa/syYEsrb7UO9cCxwBBgmxjj2wAhhCXAL0MI348xPtetvevhmpqaWLRoEf369evurqyUpUuXsnTpUvr27dvdXZHUA7WlJnxK4wyu/93rvH/L71doW+1GR+UUasgrBeDikfbSuvjOsDLTK3ZEfbyktlnd56n/HPBgIdBnfg0sBPbvni71XGeeeSYHHnggjzzyCGPGjGGrrbbi3nvv5dlnn+WYY45h2223Zdttt+WEE07gjTfeaLHtm2++yXHHHcfo0aPZZZdd+OlPf8pPfvITtt122+Y2v/nNbwgh8M4777TY9sgjj+TYY4+t2rdLLrmEgw46iG233ZZddtmFE088kddff73sfu68804++9nPstVWW/Hss8+281WRtCqqNGf6VXc8zTEXTObzp/yeYy6YzJTGGc1t35u3tOz86m0Z6S6uIe8JAXhlp1csN5+7UzVKnWt1H6kfCfy8eEGMcWEI4SVgy+7pUnXdPf3YrFmzOO+88zjuuOPYeOONqa+v54gjjmDnnXfmxz/+MUuWLOGKK67g61//OnfeeSf19fU0NTVx3HHHMWvWLMaPH8/gwYOZOHEiL7/8cof1a/bs2Xzzm99k6NChvPvuu0ycOJEvf/nL3HfffayxxhrN7Z577jlmzJjB2LFjGTJkCBtvvHGH9UFSx2vraHlpW1i5Gu1KpS/FpSzVymiK68drvQtpr151jD10dHP/WptLvbOtOaAP3zx4q5X6P8apGqWut7qH+iHAu2WWzwHadAXm1KlTK67r3bs3c+fObVvPynjkmde59s5pLFq8DEj/oUy4/WkWLlzILqOHtXv/rVmyZAnvvfcel112GaNHjwbgG9/4BltssQU//vGPqatLd8bbbLPNGDNmDL/+9a854IADeOSRR3juuee49tpr2W677QDYZpttOOCAA2hqamp+bRYuXAjAvHnzWpT0LF26lCVLllRtd/bZZ7doP2rUKPbee28mT57MXnvt1bx8zpw53HDDDWy00UbN7Uvfm3Lv1aJFi2hsbFzZl06rED8HXefZ6XO566/vsnjp8gs/fzLpKaZPn87WIwa22vayW9PUjMuKZnOptH2pWkJ4a96aM5/GxkZ23XIN7vrrgua+VbJsWRNrMqv5JkVrAgdstxYPPvM+781bSl2Vi1z79+1F3951LdqtPaCezTfqxzPT57d67Bb76lPH/tsNzl6j5f1pqzWBb++/btGSld/XqsJ/P1RNez8fq3uo7zCjRo2qWFs+bdo0Bg6s/h9ILSb94Z/Ngb5g0eJlTPrDP9lvp4+3e/+t6d27N4MHD2annXYCYMGCBTz99NOcfvrpLUbDR4wYwYgRI3jhhRc47LDD+Mc//sGaa67J7rvv3txm4MCB7LHHHtx7773Nr03h9RswYECL16u+vp7evXtXbffwww9z1VVX8eKLL/LBBx80b/vGG280t6mvryeEwOabb17xOc6dO7fse9W3b9/mExmtvhobG2loaOjubqw2Lv7dPSuE0cVLm/jT8ws4+pDdWm27tOU/lxW3LzfCv/6Q2e0O9usP6U9DQwMNDTBixIyqdyEtbl+soQGOPmR5Py+f9BRLSp5nfa86jj9km5q+wRiUXVj7wbzFVae+VMfz3w9VU8vnY+HChdUHkTu6UzkzBxhcZvkQ4Pku7kurOuJue+213nrrNf/5vffeY+nSpVx00UVcdNFFK7TdZJP0H8SsWbPKTj257rrrrrBsZTz77LMcf/zx7Lnnnvznf/4n6623HvX19Xz5y19uHtUv139JXav0pkfVyjumNM6oeBFoaTC+6o6n23TBaPG/mZWmjdxru4158Il/rXTpS2n9ePGsLt+96hGeeXF21fblFLav9TUsd2xJq67VPdRPI9XVNwsh9AM+BtzQLT2qoifMJlAosQFYc801qaur49hjj2Xvvfdeoe1aa60FwNChQ1e4+BVSHXyxwgj84sUt/3N+9913GTBgQMU+PfDAAwwaNIjLL7+c+vp0YdacOXNW2E9p/yVVV26E98N5i1v8eb0h/dl+y6HN86BXqp0uN8r8wbzFXHbrU8CKN1tqbZR8SuOM5rncW0zZWIPifzMr1c4//vwsxh46usUI/vZbDq0p6Lc28n3Bcbus9PVRBnRJlazuof4e4JwQwroxxkLCHAP0y9b1KB1xt72ONGDAALbddltefPFFxo0bV7HdVlttxQcffMBjjz3GDjvsAKQa9YcffrhFuw033BCAl156iQ022ACAmTNnMn369BY18KUWLFhA79696dVr+WROd91110o/L2l1VilUF4+EF//5rTnzV7h4tNwNkm66d9oKZSMAS5c1VbzZUjWFbW66d1rVdvW96lrcPbX038xq34CWC9AjR6xb8aSjT30dJ35xW8O5pG6xuof6a4ATgN+HEL7P8ptPTYox/r1be1ZGT5xN4IwzzuCoo47ixBNP5MADD2Tttddm1qxZPPbYY+yxxx7svffe7Lbbbnzyk5/klFNO4ZRTTmme/aZ3794tRs5Hjx7N8OHDufDCCzn55JNZsGAB1157LYMHl6uQWm7nnXdm4sSJfO9732O//fbjb3/7G7fddht9+vTp7KcvtUt7Z7Pq6O1rHYluzcLFS7ni9qdb9KVamWC1my21tk21/RZKU6q9Rm39BrQ4jJe+frtuuYZBXVK3Wa1DfYzx3RDCZ4CfAL8B5gO3Aqd3a8eq6GmjO9tssw2/+tWvmDBhAv/1X//FggUL2GCDDfj0pz/Nxz+eLt6tq6vjpz/9KePHj2f8+PEMHDiQww47jI9//OPcf//9zfvq3bs3V155JePHj2fcuHFstNFGnHbaadxwQ/VKqN13353TTjuNm2++md/+9rdsvfXWXHXVVRx22GGd+tyl9qhUyw3U9He80l1Kr/3d31aosa401WPp9m0tY6lm4eJlXHXH0xx3yDZA5fBcWAdtuz6osE21/RZeh2qvZ3u+AS3dtzObSOpOdU2V5sdSTRobGzcFprc2+83Ikd5wo9iyZcsYM2YMw4YN4+qrr+7u7jSrNPuN76Gg9tkrahlBP+aCyWXD6PpD+vPz7+7b6jEqbQ/Qu76O/v16N9e/z1+4pEXpS78+9fTt06vT70baq1cdv//R54HqM7ec9KVUslLtORXr16e+eT73SiU7n9vxo80nFK3pqPt/OLuJqvHzoWraOPvNiIaGhpdL16/WI/XqOpMmTWLp0qWMGDGCuXPncscddxBj5Mwzz+zurkkdqtYR+Eqj0m/Nmc/nT/l9q+Gy2qj2kqVNzYG9XHBfuHhpl9zQaFlRLXstM7dUGjXfa7uNK16I2xFliT3tG1BJWhmGenWJfv36cd111zFz5kyWLVvG5ptvzhVXXMGOO+7Y3V2TOlSl2VQKF3YWVCsbaaL1cpxa71LaWardCKmgV6+Ws021Fp6rBfTjqhzHUC5Jhnp1kYMPPpiDDz64u7uhnGtPmUS1bSutK3chZGvfntd6P4lyo9Klyp0MtGX7lbX+kP5VL54tLX+58o5nWLBoxX58doePtPnYBnRJWjmGekm50J4LS6ttCyteMHrF7c8wbfrsFmH2rTnzueuvCxgxYkbV49U6m0rpqHSlQe9KJwnlyllqVa2mvlxNf2Eax0rlL3s0bMJVdzzNfY+9yrJlTfTqVcdnd/hIzTXtkqT2M9R3kaamJm98lFNeTN4z1FrW0tZtC38uXVcIqMUWL21q9XhtmU2leFS60kWi1W4uV9i+9CZR8xYsaTE3e32vOgas0bv5ZlHlZr+ptZ+VHHfINoZ4SepGhvou0KdPH+bPn1/1rqjquebPn++c9x1oZUtoql1YeswFkyuWzBy1/8iaS2KKlQb6WraBlb9wsyOnVmzLa9yT7nshSVp5hvouMHToUGbOnMnw4cPp37+/I/Y50dTUxPz585k5c2bzHW5VXq0hsj0lNNUuDK1WMnPF7c8waECfsqUmhVHwcvvt1auubLCvNnJesDJ14R15c7laj2/9uiStOgz1XWCttdYC4LXXXmPx4s6dF1rts2jRIvr27dv8e58+fdhggw2a38PVUSGwvzVnfnPQXb/kYtJag3p7SmhauzC0UsnMwsVL6dunF/361FccBa80jWLpBaJ96utqGjlfWYZsSdLKMtR3kbXWWmu1DoZ50djYyOjRo7u7Gz1GaWAvBObi4N6WoL4yZTAFxSPZlUbsK5XMfDhvMScf/qmqo+Dl1pVeILrrlmsYuiVJPZKhXlJF5QJ7wcLFS6vOvFIuqNc6M0wlhZHsSheVViuZqTYKXmld6fLGxsaa+ilJUlfr1d0dkPJmSuMMjrlgMp8/5fccc8FkpjTO6O4udZrWRtCrTaVYLqgftf9I+vWpb7Gs1otBa9nPZ3f4SIfsX5KkvHGkXspMaZzB9b97nfdv+X3FixTbc6Fna8cuLf+A7p+ZZGXvWlptakRo//Oqtp9qc6pLkrSqMtRL1B7W23OhZ1uOffmkp2hqonmu8Y46eWirlb1raeFuo+V01MWgtZbMSJK0OrD8RqL1mxMVtOdCz7Yce8nSphY3D6rUn862R8MmjD10NOtnpTS9eqXpWNcf0p81B5Sfu3/9rH5dkiR1HUfqJarf2Ojzpywvx2nvhZ5tOXZ723aUSiPfpd8wgPXrkiR1F0fqJaqH8iaWl79sv+XQDr8Qsy0nBO05eehoxaP4daQR+mplN5IkqfM4Ui9RW+34wsVLefz5WYw9dHSHXohZ7ti96+ta1NRDzxwFt35dkqSewVAvsfzi0+t/9wzvz1tK+VsYpfKXjg6ylWZyKbfMAC1Jksox1EuZPRo2YU1m0dDQUPHmRp1V/lJtJhdJkqTWWFMvldFRN0mSJEnqCo7US2V01E2SJEmSuoKhPofK3X3UsNnxvAhUkiTlhaE+Z2q986kkSZJWH9bU50ytdz6VJEnS6sNQnzOV7ijaHXcalSRJUs9gqM+ZSlMq9qQ7jUqSJKlrGepzxqkWJUmSVMoLZXPGqRYlSZJUylCfQ061KEmSpGKW30iSJEk5Z6iXJEmScs5QL0mSJOWcoV6SJEnKOUO9JEmSlHOGekmSJCnnDPWSJElSzhnqJUmSpJwz1EuSJEk5Z6iXJEmScs5QL0mSJOWcoV6SJEnKOUO9JEmSlHOGekmSJCnnDPWSJElSzhnqJUmSpJwz1EuSJEk5Z6iXJEmScs5QL0mSJOWcoV6SJEnKud7d3YHOEEIYD5xXZtVpMcYfl7Q9Cjgb2BR4CTg/xjips/soSZIkdZRVMtRn5gOfKVn2SvEvIYRDgInAD4DJwMHAr0II78cY7+2SXkqSJEnttCqH+mUxxkdbafN94PYY41nZ7w+FEEYC3wMM9ZIkScqF1bamPoQwAtgSuLVk1S3A9iGE9bu+V5IkSVLbrcoj9f1DCLOAdYAXgQkxxiuL1o/MHv9est1z2WMA3urcLkqSJEntt6qG+heBM4CngH7AocAVIYT1Y4zjszZDssd3S7adkz2u05YDTp06deV6qh6nsbGxu7ugHszPh6rx86Fq/HyomvZ+PnIR6kMIawPDamj6aoxxXozxFyXL7wkhAJwRQvhRjHFuR/dx1KhR9OvXr6N3qy7W2NhIQ0NDd3dDPZSfD1Xj50PV+PlQNbV8PhYuXFh1EDkXoR4YA9xQQ7s9gSkV1t0GfA34BPA4y0fkBwNvFLUrjOC/09ZOSpIkSd0hF6E+xngjcGMH73Za9jgSeL5o+ScKh+3g40mSJEmdYnWa/eZLpLnrnwOIMU4nhfkvlrT7MvB4jNGLZCVJkpQLuRipb6sQQiPpplIR6EsK7kcA340xzitqei4wKYTwEnA/8AVgX+CAru2xJEmStPJWyVBPmv3mJJZfXPsccEyMsUVdfozx9hDCAOBs4FTgJeBw7yYrSZKkPFklQ32MsbSkplrbiaRRfUmSJCmXVqeaekmSJGmVZKiXJEmScs5QL0mSJOWcoV6SJEnKOUO9JEmSlHOGekmSJCnnDPWSJElSzhnqJUmSpJwz1EuSJEk5Z6iXJEmScs5QL0mSJOWcoV6SJEnKOUO9JEmSlHOGekmSJCnnDPWSJElSzhnqJUmSpJwz1EuSJEk5Z6iXJEmScs5QL0mSJOWcoV6SJEnKOUO9JEmSlHOGekmSJCnnDPWSJElSzhnqJUmSpJwz1EuSJEk5Z6iXJEmScs5QL0mSJOWcoV6SJEnKOUO9JEmSlHOGekmSJCnnDPWSJElSzhnqJUmSpJwz1EuSJEk5Z6iXJEmScs5QL0mSJOWcoV6SJEnKOUO9JEmSlHOGekmSJCnnDPWSJElSzhnqJUmSpJwz1EuSJEk5Z6iXJEmScs5QL0mSJOWcoV6SJEnKOUO9JEmSlHOGekmSJCnnDPWSJElSzhnqJUmSpJwz1EuSJEk517u7O9AWIYTtgG8D/wYE4J4Y44EV2h4FnA1sCrwEnB9jnFTSpg9wPvBVYDDwOPCdGOPTnfUcJEmSpI6Wt5H6nYFdgSeBVys1CiEcAkwEfgvsDzwA/CqEsH9J00tJJwnnAV8AFgEPhhA26viuS5IkSZ0jVyP1wIQY4+UAIYQpVdp9H7g9xnhW9vtDIYSRwPeAe7PthwPfAk6MMV6XLXsUmA6cBJzeKc9AkiRJ6mC5GqmPMS5rrU0IYQSwJXBryapbgO1DCOtnv+8L1APNJTkxxg+Au4HPdUiHJUmSpC6Qq1Bfo5HZ499Llj+XPYaidm/GGGeXabdFCGFVfG0kSZK0Cspb+U0thmSP75Ysn5M9rlPUrrRNoV0fYBDwfq0HnTp1ahu6qJ6ssbGxu7ugHszPh6rx86Fq/HyomvZ+Pro11IcQ1gaG1dD01RjjvM7uT3uMGjWKfv36dXc31E6NjY00NDR0dzfUQ/n5UDV+PlSNnw9VU8vnY+HChVUHkbt7pH4McEMN7fYEptS4z8KI/GDgjaLlhRH8d4raDS6z/RBgMfBhjceTJEmSulW3hvoY443AjR2822nZ40jg+aLlnygctqjd0BDCOjHGd0ravVDLRbmSJElST7DKXQwaY5xOCvNfLFn1ZeDxGONb2e+TgWXAYYUGIYRBwEHAPV3QVUmSJKlDdHf5TZtk01Hunv26PjAou9EUwMNFgf1cYFII4SXgftKNpfYFDijsK8Y4M4RwNfDDEMIS4BXgVKAOuKzTn4wkSZLUQXIV6oFPAreXLCv83lx3H2O8PYQwADibFNRfAg6PMd5bsu04Uu38BcDawOPA3jHG1zql95IkSVInyFWojzFOIY2k19J2IjCxlTaLgTOzH0mSJCmXVrmaekmSJGl1Y6iXJEmScs5QL0mSJOWcoV6SJEnKOUO9JEmSlHOGekmSJCnnDPWSJElSzhnqJUmSpJwz1EuSJEk5Z6iXJEmScs5QL0mSJOWcoV6SJEnKOUO9JEmSlHOGekmSJCnnDPWSJElSzhnqJUmSpJwz1EuSJEk5Z6iXJEmScs5QL0mSJOWcoV6SJEnKOUO9JEmSlHOGekmSJCnnDPWSJElSzhnqJUmSpJwz1EuSJEk5Z6iXJEmScs5QL0mSJOWcoV6SJEnKOUO9JEmSlHOGekmSJCnnDPWSJElSzhnqJUmSpJwz1EuSJEk5Z6iXJEmScs5QL0mSJOWcoV6SJEnKOUO9JEmSlHOGekmSJCnnqob6EIKhX5IkSerhWgvtjSGEhi7piSRJkqSV0lqoXxd4NIRwaQhhYFd0SJIkSVLbtBbqRwITgLHA30MIB3R+lyRJkiS1RdVQH2OcG2M8Gfg08AZwZwhhUghhgy7pnSRJkqRW9a6lUYzxqRDCvwHHARcBL4QQZpZp2hRj/GRHdlCSJElSdTWF+kxfYGOgP/A28Gan9EiSJElSm9QU6kMIewFXAyOyx7NijB90ZsckSZIk1aZqqA8hrAtcChwBPAfsEmN8tCs6JkmSJKk2rY3UR2AAcA7w3zHGJZ3fJUmSJElt0VqofwY4Nsb4Yld0RpIkSVLbVQ31Mca9uqojtQghbAd8G/g3IAD3xBgPLNNuCrB7mV1sH2N8oqhdH+B84KvAYOBx4Dsxxqc7vveSJElS52jt5lM9zc7ArsCTwKuttP0zsGPJz7SSNpeSThLOA74ALAIeDCFs1IF9liRJkjpVW6a07AkmxBgvh+bR+GrerXZRbwhhOPAt4MQY43XZskeB6cBJwOkd0mNJkiSpk+VqpD7GuKwDd7cvUA9MKtr/B8DdwOc68DiSJElSp8pVqG+j3UMIH4YQFoQQHsnm2i82Engzxji7ZPlzwBYhhFX5tZEkSdIqJG/lN7V6GLgZ+AewAamcZnIIYZ8Y4x+yNkOAd8tsOwfoAwwC3q/1gFOnTm1Xh9VzNDY2dncX1IP5+VA1fj5UjZ8PVdPez0e3hvoQwtrAsBqavhpjnFfrfmOM55Uc507S9JzjgT+U26a9Ro0aRb9+/Tpj1+pCjY2NNDQ0dHc31EP5+VA1fj5UjZ8PVVPL52PhwoVVB5G7e6R+DHBDDe32BKas7EFijAtDCL8HxhYtnkOaxrLUEGAx8OHKHk+SJEnqSt0a6mOMNwI3dtPhpwFDQwjrxBjfKVr+CeCFDr4oV5IkSeo0q8XFoCGEfsDBpJtLFUwGlgGHFbUbBBwE3NOlHZQkSZLaobvLb9okhLA+y+8Uuz4wKIRwSPb7wzHGt0IIuwKnAb8FXgY2BL4DbAYcW9hXjHFmCOFq4IchhCXAK8CpQB1wWRc8HUmSJKlD5CrUA58Ebi9ZVvi9UHf/OtAXuBBYF5gHPArsEWP8c8m240i18xcAa5NG8veOMb7WGZ2XJEmSOkOuQn2McQppJL1amxeBz9a4v8XAmdmPJEmSlEurRU29JEmStCoz1EuSJEk5Z6iXJEmScs5QL0mSJOWcoV6SJEnKOUO9JEmSlHOGekmSJCnnDPWSJElSzhnqJUmSpJwz1EuSJEk5Z6iXJEmScs5QL0mSJOWcoV6SJEnKOUO9JEmSlHOGekmSJCnnDPWSJElSzhnqJUmSpJwz1EuSJEk5Z6iXJEmScs5QL0mSJOWcoV6SJEnKOUO9JEmSlHOGekmSJCnnDPWSJElSzhnqJUmSpJwz1EuSJEk5Z6iXJEmScs5QL0mSJOWcoV6SJEnKOUO9JEmSlHOGekmSJCnnDPWSJElSzhnqJUmSpJwz1EuSJEk5Z6iXJEmScs5QL0mSJOWcoV6SJEnKOUO9JEmSlHOGekmSJCnnDPWSJElSzhnqJUmSpJwz1EuSJEk5Z6iXJEmScs5QL0mSJOWcoV6SJEnKOUO9JEmSlHOGekmSJCnnDPWSJElSzhnqJUmSpJzr3d0daIsQwrHAvwNbA4OA54EfxRhvK9P2KOBsYFPgJeD8GOOkkjZ9gPOBrwKDgceB78QYn+7EpyFJkiR1qLyN1H8X+BdwPDAG+AswKYTw7eJGIYRDgInAb4H9gQeAX4UQ9i/Z36XAt4HzgC8Ai4AHQwgbdeaTkCRJkjpSrkbqgU/FGN8q+v2BEMLGwKnAlUXLvw/cHmM8K/v9oRDCSOB7wL0AIYThwLeAE2OM12XLHgWmAycBp3fqM5EkSZI6SK5G6ksCfcFTQPPIeghhBLAlcGtJu1uA7UMI62e/7wvUA80lOTHGD4C7gc91YLclSZKkTpWrUF/BrsC0ot9HZo9/L2n3XPYYitq9GWOcXabdFiGEVeG1kSRJ0mogb+U3LYQQDgb2AY4sWjwke3y3pPmc7HGdonalbQrt+pAuxH2/1r5MnTq11qbq4RobG7u7C+rB/HyoGj8fqsbPh6pp7+ejW0N9CGFtYFgNTV+NMc4r2fYTwA2k2vlfdEb/2mLUqFH069evu7uhdmpsbKShoaG7u6Eeys+HqvHzt6qAygAAEZdJREFUoWr8fKiaWj4fCxcurDqI3N0j9WNIwbw1ewJTCr9kF8feB/wNOKqkbWFEfjDwRtHywgj+O0XtBpc51hBgMfBhDf2SJEmSul23hvoY443AjW3ZJoSwLjCZVBrz+RjjgpImhfr6kaR57As+UThsUbuhIYR1YozvlLR7Ica4rC39kiRJkrpLri4GDSEMIk1JORD4bIxxhZr4GON0Upj/YsmqLwOPF82gMxlYBhxWsv+DgHs6vveSJElS5+ju8pu2+jWwLfANYOOsDKfgqRjjwuzP55JuSvUScD/pxlL7AgcUGscYZ4YQrgZ+GEJYArxCmu++Dris05+JJEmS1EHyFur3zR7L1eGPAF4GiDHeHkIYAJxNCuovAYfHGO8t2WYcqXb+AmBt4HFg7xjjax3fdUmSJKlz5CrUxxjr2tB2IjCxlTaLgTOzH0mSJCmXclVTL0mSJGlFhnpJkiQp5wz1kiRJUs4Z6iVJkqScM9RLkiRJOWeolyRJknLOUC9JkiTlnKFekiRJyjlDvSRJkpRzhnpJkiQp5wz1+v/t3X+QXWV9x/F3QuKqpEPCb5BhpKJfg9GxLsxYS6SI/BYhVm2VCQzTYlKhAuVHrWVEiCMiHW2hlIgzEgu0ArVWcYj8DiCVaViwNfz4UiKQsVpIIBmglE1kt3+cu7Bc7t79vec+u+/XzM7lnvucc7/3PA/Zzz73uedKkiSpcIZ6SZIkqXCGekmSJKlwhnpJkiSpcIZ6SZIkqXCGekmSJKlwhnpJkiSpcIZ6SZIkqXCGekmSJKlwhnpJkiSpcIZ6SZIkqXCGekmSJKlwhnpJkiSpcIZ6SZIkqXCGekmSJKlwhnpJkiSpcIZ6SZIkqXCGekmSJKlwhnpJkiSpcIZ6SZIkqXCGekmSJKlwhnpJkiSpcIZ6SZIkqXCGekmSJKlwhnpJkiSpcIZ6SZIkqXCGekmSJKlwhnpJkiSpcIZ6SZIkqXCGekmSJKlwhnpJkiSpcIZ6SZIkqXCGekmSJKlwhnpJkiSpcIZ6SZIkqXCGekmSJKlwhnpJkiSpcIZ6SZIkqXCGekmSJKlwc+ouYDQiYhnwMeA9wDzgEeDizLyuqd0a4KAWhzggM+8b1G4ucAFwIjAfWAuclpk/m5QXIEmSJE2C0mbqzwV+CXwWWAL8FLg2Ik5p0fYe4Hebfh5uavMN4BTgPOBYYCtwW0TsOSnVS5IkSZOgqJl64H2ZuXHQ/VsjYi/gLOCyprZbMvPeoQ4UEW8BlgOfy8xvNbbdCzwOnA6cM6GVS5IkSZOkqJn6pkA/4AFgLDPrhwHbAdcOOv7zwI+Ao8ZUoCRJklSDokL9EBbz+mU1AAdFxAsR8VJE/CQiDml6fCHwVGY+07T9QeAdETEdzo0kSZJmgNKW37xGRBwHHAosbXroTuAq4L+A3aiW09wcEYdm5u2NNguALS0OuxmYS/VB3OdGWsu6detGV7w6Vk9PT90lqIM5PtSO40PtOD7UznjHR62hPiJ2APYYQdMNmfli0777AVcC12fm1YMfy8zzmtr+EPgP4EvA7UyCRYsW0dXVNRmH1hTq6emhu7u77jLUoRwfasfxoXYcH2pnJOOjt7e37SRy3TP1S6iC+XAOBtYM3Gl8OPbHwM+BE4bbOTN7I+IHwKmDNm+muoxlswXANuCFEdQlSZIk1a7WUJ+Zq4BVo9knInYCbqZaGvPRzHxpjE//MLBrROyYmc8O2r4f8Ghm9o3xuJIkSdKUKurDoBExD1gNbA8ckZmt1sS32q8LOI7qy6UG3Az0AZ9sOv4xwI0TVbMkSZI02epefjNa3wN+BzgZ2KuxDGfAA41lNouBs4HvA08AuwOnAb8NLBtonJn/HRErgYsi4jfAk1TXu58F/M0UvBZJkiRpQpQW6g9r3LZah78PVYj/NfAG4CvATsCLwL3A72fmPU37nEG1dv7LwA5UM/kfzsxfTXjlkiRJ0iQpKtRn5qwRtHkMOGKEx9sGfL7xI0mSJBWpqDX1kiRJkl7PUC9JkiQVzlAvSZIkFc5QL0mSJBXOUC9JkiQVzlAvSZIkFc5QL0mSJBXOUC9JkiQVzlAvSZIkFc5QL0mSJBXOUC9JkiQVzlAvSZIkFc5QL0mSJBXOUC9JkiQVzlAvSZIkFc5QL0mSJBXOUC9JkiQVzlAvSZIkFc5QL0mSJBXOUC9JkiQVzlAvSZIkFc5QL0mSJBXOUC9JkiQVzlAvSZIkFc5QL0mSJBXOUC9JkiQVzlAvSZIkFc5QL0mSJBXOUC9JkiQVzlAvSZIkFc5QL0mSJBXOUC9JkiQVzlAvSZIkFc5QL0mSJBXOUC9JkiQVzlAvSZIkFc5QL0mSJBXOUC9JkiQVzlAvSZIkFc5QL0mSJBXOUC9JkiQVzlAvSZIkFc5QL0mSJBXOUC9JkiQVzlAvSZIkFc5QL0mSJBXOUC9JkiQVzlAvSZIkFc5QL0mSJBVuTt0FjEZELAP+GNgXeBPwJHA1cHFm9ja1PQH4AvBWYD1wQWZe29RmLnABcCIwH1gLnJaZP5vcVyJJkiRNnNJm6ncEbgBOAo4G/gE4F7h0cKOI+DjwHeD7wJHArcA/RcSRTcf7BnAKcB5wLLAVuC0i9pzE1yBJkiRNqKJm6jPzwqZNt0fEPOD0iPjTzHy5sX0FcH1m/mXj/h0RsRA4H1gNEBFvAZYDn8vMbzW23Qs8DpwOnDO5r0aSJEmaGEWF+iFsAuZSvevwckTsA7wT+Kumdv8IXBkRu2TmRuAwYDvglSU5mfl8RPwIOApDvSSNyNN33sWGq66hd9MzdO28E3svPZ5dD/rglD3/Yyuv4KmbboG+Ppg9m90OP5R9l3+m7T511zxdtTuvYz3n4+0r+7pzDdc39t3oFBnqI2IO8AZgf6pZ9b/PzG2Nhxc2bh9q2u3Bgd2BjY12T2XmMy3afToiZmdm34QXL0nTyNN33sX6y1bS11t9rKl34ybWX7YSYEp++T628gqeWn3Tqxv6+l65P1Swr7vm6ardeQXGdM7H21f2decarm/su9ErbU09ETEf2Ab8L3AncDtwxqAmCxq3W5p23dy43XFQu+Y2A+3mAvMmol5Jms42XHXNK790B/T19rLhqmum5PmfuumWUW2H+muertqd17Ge8/H2lX3duYbrG/tu9GqdqY+IHYA9RtB0Q2a+2Pjv54EDqK5+cwDVMpsrqa5gU5t169bV+fSaQD09PXWXoA7m+Hit3o2bhtw+Jeeqb4g3VPv6hnz+yax5Jo+Pdue13T7tztl4+6r28dlkJo+PZsP1Taf13VQY7+uqe/nNEqpAPpyDgTUAjQ/D3tfYfndEPAn8c0Rcmpn38eqM/HzgfwYdY2AG/9nG7eZGm2YLqN4JeGGErwGARYsW0dXVNZpd1IF6enro7u6uuwx1KMfH6923y84tf/l27bLzlJyre2bPbh3sZ88e8vknq+aZPj7anVdoHeKGO+fj7au6x+dgM318NBuubzqp76bCSMZHb29v20nkWpffZOaqzJw1gp81bQ4z8GfNvo3bhxu3C5va7TfwtIPa7RoRO7Zo96jr6SVpeHsvPZ7ZTRMas7u62Hvp8VPy/LsdfuiotkP9NU9X7c7rWM/5ePvKvu5cw/WNfTd6dc/UT4QDG7e/AMjMxyPiEeAPqa5TP+BTwNrGlW8Abgb6gE8CKwEal8c8Bvj2FNQtScUb+MBaXVeoGPgw7GiuflN3zdPVSM7raM/5ePvKvu5cw/WNfTd6s/r7++uuYcQi4j6qL5V6tLHp/cCZwD2ZeeSgdp+gulTlhcAtVF8sdRpwdGauHtTu74CljWM8CZxFdUWdd2fmr0ZSU09Pz1uBx11+Mz349qjacXyoHceH2nF8qJ1RLr/Zp7u7+4nmx0ubqb8fOBXYi2rd+y+ALwKXD26UmddHxJuBL1AF9fXApwcH+oYzqNbOfxnYAVgLfHikgV6SJEnqBEWF+sxs/20ir237HapZ/XZttgGfb/xIkiRJRSruOvWSJEmSXstQL0mSJBXOUC9JkiQVzlAvSZIkFc5QL0mSJBXOUC9JkiQVzlAvSZIkFc5QL0mSJBXOUC9JkiQVzlAvSZIkFc5QL0mSJBVuTt0FTAPbAWzdurXuOjRBent76y5BHczxoXYcH2rH8aF2hhsfg7Lmdq0en9Xf3z/BJc0sPT09BwJ3112HJEmSZoTF3d3dP2ne6Ez9+K0FFgO/Bl6uuRZJkiRNT9sBe1Blz9dxpl6SJEkqnB+UlSRJkgpnqJckSZIKZ6iXJEmSCmeolyRJkgpnqJckSZIKZ6iXJEmSCmeolyRJkgrnl09JLUTEMuBjwHuAecAjwMWZeV2thakjRMT+wCnA+4EAbszMj9RbleoQEW8HLgUOBP4P+C7wF5n5Yq2FqSNExL7AWVT/ViwCHsnMRfVWpU4QEZ8Ajge6gR2B9cDlwDczs28sx3SmXmrtXOCXwGeBJcBPgWsj4pRaq1Kn+D2qb5K+H9hQcy2qSUTMB+4Afgv4OHAm8Cng23XWpY7yLuBo4DHgoZprUWc5E+gFzgY+AvwrcAlw0VgP6Ey91Nr7MnPjoPu3RsReVDMul9VUkzrHpZn5twARsabmWlSfZcAC4L2ZuQkgIn4DXBMRKzLzwVqrUye4ITN/ABARq4D96y1HHeSYppxxR0TMA06NiHMzs3e0B3SmXmqh6X+0AQ8Ae051Leo8Y31rVNPOUcBtA4G+4XtUs29H1lOSOon/VmgobXLGG6mW44yaoV4aucXAw3UXIaljLKRpSUVjdm098M5aKpJUssXAs8DTY9nZ5TfSCETEccChwNK6a5HUMRYAW1ps38wYZ9okzUyNCzCcBJyfmS+P5RiGes0IEbEDsMcImm5ovmpFROwHXAlcn5lXT0Z9qtd4xockSeMREbtTLd37d/ygrDSsJVTBfDgHA2sG7jQ+HPtj4OfACZNSmTrBmMaHZrzNwPwW2xdQXQZXktpqTCqtBl4EPpqZ28Z6LEO9ZoTMXAWsGs0+EbETcDPwHNX/aC9NfGXqBGMZHxLVZ2wWDt4QEV3A2xjZH4mSZrCIeCPwQ2BX4AOZ+cx4jucHZaUWGpeVWg1sDxyRma3WzUqa2W4EDmlMAAxYAnQ1HpOkliJiDnAd1ZdcHpmZT473mLP6+/vHXZg03UTETcCHgJN5/dvoD4zl+rGaPiJiF+Cgxt3zqb5J9KuN+3cOcakyTTONL59aBzwBrKCabfs61WUu/6jG0tQhIuLNVJc+hepbqN8G/Hnj/tqJCHIqU0R8E/gMcA5wd9PDD2Xmc6M9pstvpNYOa9y2egt9H6pf4pq53gVc37Rt4L7r7meIzNwSER+i+hbIf6H64+67VL+kJaj+0Bvq34qTcNnfTHZ44/ZrLR4b0+8RZ+olSZKkwrmmXpIkSSqcoV6SJEkqnKFekiRJKpyhXpIkSSqcoV6SJEkqnKFekiRJKpyhXpIkSSqcoV6SNOkiYlVE9EbEwhaPnRwR/RFxYh21SdJ04JdPSZImXUTsDDwCPAx8MDP7G9t3b2y7PzMPqbFESSqaM/WSpEmXmZuAs4ADgT8Z9NAlwJuA5XXUJUnThTP1kqQpExG3A+8FFgIHADcAX8zMFbUWJkmFm1N3AZKkGWU58J/A5cD+VEtvLqq1IkmaBlx+I0maMpn5KHAhsATYC1iWmVvrrUqSymeolyRNtU2DbnvqLESSpgtDvSRpykTEnsBXgAeBnYEv1VqQJE0ThnpJ0lS6BJgLHAtcCZwREe+utyRJKp+hXpI0JSLiGOAPgBWZuR44B9gCrIyIWbUWJ0mFM9RLkiZdRMwDLgPWAX8NkJnPAGcDHwBOrq86SSqfoV6SNBVW8OrVbrYNbMzMVcBdwFcjYteaapOk4hnqJUmTKiK6gT8DrsjMf2vRZDmwPfD1KS1MkqYRv1FWkiRJKpwz9ZIkSVLhDPWSJElS4Qz1kiRJUuEM9ZIkSVLhDPWSJElS4Qz1kiRJUuEM9ZIkSVLhDPWSJElS4Qz1kiRJUuEM9ZIkSVLh/h88UUm3D0IGDQAAAABJRU5ErkJggg==\n",
                "text/plain": "<Figure size 864x576 with 1 Axes>"
              }
            ],
            "_view_module": "@jupyter-widgets/output",
            "_model_module_version": "1.0.0",
            "_view_count": null,
            "_view_module_version": "1.0.0",
            "layout": "IPY_MODEL_5ae22650af7c44a4af2adfa8db9ded76",
            "_model_module": "@jupyter-widgets/output"
          }
        },
        "4169618a1d9f4ba8b0b269f531b277db": {
          "model_module": "@jupyter-widgets/controls",
          "model_name": "SliderStyleModel",
          "state": {
            "_view_name": "StyleView",
            "handle_color": null,
            "_model_name": "SliderStyleModel",
            "description_width": "",
            "_view_module": "@jupyter-widgets/base",
            "_model_module_version": "1.5.0",
            "_view_count": null,
            "_view_module_version": "1.2.0",
            "_model_module": "@jupyter-widgets/controls"
          }
        },
        "bc7a6f25b8b34a81aa688b588c3ccc97": {
          "model_module": "@jupyter-widgets/base",
          "model_name": "LayoutModel",
          "state": {
            "_view_name": "LayoutView",
            "grid_template_rows": null,
            "right": null,
            "justify_content": null,
            "_view_module": "@jupyter-widgets/base",
            "overflow": null,
            "_model_module_version": "1.2.0",
            "_view_count": null,
            "flex_flow": null,
            "width": null,
            "min_width": null,
            "border": null,
            "align_items": null,
            "bottom": null,
            "_model_module": "@jupyter-widgets/base",
            "top": null,
            "grid_column": null,
            "overflow_y": null,
            "overflow_x": null,
            "grid_auto_flow": null,
            "grid_area": null,
            "grid_template_columns": null,
            "flex": null,
            "_model_name": "LayoutModel",
            "justify_items": null,
            "grid_row": null,
            "max_height": null,
            "align_content": null,
            "visibility": null,
            "align_self": null,
            "height": null,
            "min_height": null,
            "padding": null,
            "grid_auto_rows": null,
            "grid_gap": null,
            "max_width": null,
            "order": null,
            "_view_module_version": "1.2.0",
            "grid_template_areas": null,
            "object_position": null,
            "object_fit": null,
            "grid_auto_columns": null,
            "margin": null,
            "display": null,
            "left": null
          }
        },
        "c134b723ca0a4d24b759f20769b514a9": {
          "model_module": "@jupyter-widgets/controls",
          "model_name": "SliderStyleModel",
          "state": {
            "_view_name": "StyleView",
            "handle_color": null,
            "_model_name": "SliderStyleModel",
            "description_width": "",
            "_view_module": "@jupyter-widgets/base",
            "_model_module_version": "1.5.0",
            "_view_count": null,
            "_view_module_version": "1.2.0",
            "_model_module": "@jupyter-widgets/controls"
          }
        },
        "68d2774f903c4ea490c835d90aa02ad2": {
          "model_module": "@jupyter-widgets/base",
          "model_name": "LayoutModel",
          "state": {
            "_view_name": "LayoutView",
            "grid_template_rows": null,
            "right": null,
            "justify_content": null,
            "_view_module": "@jupyter-widgets/base",
            "overflow": null,
            "_model_module_version": "1.2.0",
            "_view_count": null,
            "flex_flow": null,
            "width": null,
            "min_width": null,
            "border": null,
            "align_items": null,
            "bottom": null,
            "_model_module": "@jupyter-widgets/base",
            "top": null,
            "grid_column": null,
            "overflow_y": null,
            "overflow_x": null,
            "grid_auto_flow": null,
            "grid_area": null,
            "grid_template_columns": null,
            "flex": null,
            "_model_name": "LayoutModel",
            "justify_items": null,
            "grid_row": null,
            "max_height": null,
            "align_content": null,
            "visibility": null,
            "align_self": null,
            "height": null,
            "min_height": null,
            "padding": null,
            "grid_auto_rows": null,
            "grid_gap": null,
            "max_width": null,
            "order": null,
            "_view_module_version": "1.2.0",
            "grid_template_areas": null,
            "object_position": null,
            "object_fit": null,
            "grid_auto_columns": null,
            "margin": null,
            "display": null,
            "left": null
          }
        },
        "26f4e94aa9944afaa20e6dbc6bf5f92b": {
          "model_module": "@jupyter-widgets/controls",
          "model_name": "DescriptionStyleModel",
          "state": {
            "_view_name": "StyleView",
            "_model_name": "DescriptionStyleModel",
            "description_width": "",
            "_view_module": "@jupyter-widgets/base",
            "_model_module_version": "1.5.0",
            "_view_count": null,
            "_view_module_version": "1.2.0",
            "_model_module": "@jupyter-widgets/controls"
          }
        },
        "168d80a1f95d4e4fbc276ae928ef8526": {
          "model_module": "@jupyter-widgets/base",
          "model_name": "LayoutModel",
          "state": {
            "_view_name": "LayoutView",
            "grid_template_rows": null,
            "right": null,
            "justify_content": null,
            "_view_module": "@jupyter-widgets/base",
            "overflow": null,
            "_model_module_version": "1.2.0",
            "_view_count": null,
            "flex_flow": null,
            "width": null,
            "min_width": null,
            "border": null,
            "align_items": null,
            "bottom": null,
            "_model_module": "@jupyter-widgets/base",
            "top": null,
            "grid_column": null,
            "overflow_y": null,
            "overflow_x": null,
            "grid_auto_flow": null,
            "grid_area": null,
            "grid_template_columns": null,
            "flex": null,
            "_model_name": "LayoutModel",
            "justify_items": null,
            "grid_row": null,
            "max_height": null,
            "align_content": null,
            "visibility": null,
            "align_self": null,
            "height": null,
            "min_height": null,
            "padding": null,
            "grid_auto_rows": null,
            "grid_gap": null,
            "max_width": null,
            "order": null,
            "_view_module_version": "1.2.0",
            "grid_template_areas": null,
            "object_position": null,
            "object_fit": null,
            "grid_auto_columns": null,
            "margin": null,
            "display": null,
            "left": null
          }
        },
        "5ae22650af7c44a4af2adfa8db9ded76": {
          "model_module": "@jupyter-widgets/base",
          "model_name": "LayoutModel",
          "state": {
            "_view_name": "LayoutView",
            "grid_template_rows": null,
            "right": null,
            "justify_content": null,
            "_view_module": "@jupyter-widgets/base",
            "overflow": null,
            "_model_module_version": "1.2.0",
            "_view_count": null,
            "flex_flow": null,
            "width": null,
            "min_width": null,
            "border": null,
            "align_items": null,
            "bottom": null,
            "_model_module": "@jupyter-widgets/base",
            "top": null,
            "grid_column": null,
            "overflow_y": null,
            "overflow_x": null,
            "grid_auto_flow": null,
            "grid_area": null,
            "grid_template_columns": null,
            "flex": null,
            "_model_name": "LayoutModel",
            "justify_items": null,
            "grid_row": null,
            "max_height": null,
            "align_content": null,
            "visibility": null,
            "align_self": null,
            "height": null,
            "min_height": null,
            "padding": null,
            "grid_auto_rows": null,
            "grid_gap": null,
            "max_width": null,
            "order": null,
            "_view_module_version": "1.2.0",
            "grid_template_areas": null,
            "object_position": null,
            "object_fit": null,
            "grid_auto_columns": null,
            "margin": null,
            "display": null,
            "left": null
          }
        },
        "15c8b3ec43514db18de2447850303d1e": {
          "model_module": "@jupyter-widgets/controls",
          "model_name": "VBoxModel",
          "state": {
            "_view_name": "VBoxView",
            "_dom_classes": [
              "widget-interact"
            ],
            "_model_name": "VBoxModel",
            "_view_module": "@jupyter-widgets/controls",
            "_model_module_version": "1.5.0",
            "_view_count": null,
            "_view_module_version": "1.5.0",
            "box_style": "",
            "layout": "IPY_MODEL_fa5aeb395cfa4407aad885b5cb9846ae",
            "_model_module": "@jupyter-widgets/controls",
            "children": [
              "IPY_MODEL_8ae3ce61081d4d3d8146dc38162833a6",
              "IPY_MODEL_6896310d44c34832b407e6cd8afac4ae"
            ]
          }
        },
        "fa5aeb395cfa4407aad885b5cb9846ae": {
          "model_module": "@jupyter-widgets/base",
          "model_name": "LayoutModel",
          "state": {
            "_view_name": "LayoutView",
            "grid_template_rows": null,
            "right": null,
            "justify_content": null,
            "_view_module": "@jupyter-widgets/base",
            "overflow": null,
            "_model_module_version": "1.2.0",
            "_view_count": null,
            "flex_flow": null,
            "width": null,
            "min_width": null,
            "border": null,
            "align_items": null,
            "bottom": null,
            "_model_module": "@jupyter-widgets/base",
            "top": null,
            "grid_column": null,
            "overflow_y": null,
            "overflow_x": null,
            "grid_auto_flow": null,
            "grid_area": null,
            "grid_template_columns": null,
            "flex": null,
            "_model_name": "LayoutModel",
            "justify_items": null,
            "grid_row": null,
            "max_height": null,
            "align_content": null,
            "visibility": null,
            "align_self": null,
            "height": null,
            "min_height": null,
            "padding": null,
            "grid_auto_rows": null,
            "grid_gap": null,
            "max_width": null,
            "order": null,
            "_view_module_version": "1.2.0",
            "grid_template_areas": null,
            "object_position": null,
            "object_fit": null,
            "grid_auto_columns": null,
            "margin": null,
            "display": null,
            "left": null
          }
        },
        "8ae3ce61081d4d3d8146dc38162833a6": {
          "model_module": "@jupyter-widgets/controls",
          "model_name": "IntSliderModel",
          "state": {
            "_view_name": "IntSliderView",
            "style": "IPY_MODEL_c94c812940d44fa085f021e5618392df",
            "_dom_classes": [],
            "description": "n",
            "step": 1,
            "_model_name": "IntSliderModel",
            "orientation": "horizontal",
            "max": 100,
            "_view_module": "@jupyter-widgets/controls",
            "_model_module_version": "1.5.0",
            "value": 25,
            "_view_count": null,
            "disabled": false,
            "_view_module_version": "1.5.0",
            "min": 10,
            "continuous_update": true,
            "readout_format": "d",
            "description_tooltip": null,
            "readout": true,
            "_model_module": "@jupyter-widgets/controls",
            "layout": "IPY_MODEL_ce0fa6da22a1438daebf795335dc9fef"
          }
        },
        "6896310d44c34832b407e6cd8afac4ae": {
          "model_module": "@jupyter-widgets/output",
          "model_name": "OutputModel",
          "state": {
            "_view_name": "OutputView",
            "msg_id": "",
            "_dom_classes": [],
            "_model_name": "OutputModel",
            "outputs": [
              {
                "output_type": "display_data",
                "metadata": {
                  "tags": [],
                  "needs_background": "light"
                },
                "image/png": "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\n",
                "text/plain": "<Figure size 864x576 with 1 Axes>"
              }
            ],
            "_view_module": "@jupyter-widgets/output",
            "_model_module_version": "1.0.0",
            "_view_count": null,
            "_view_module_version": "1.0.0",
            "layout": "IPY_MODEL_e37d5e3d732e4ac2a7ad48a8e085a4e9",
            "_model_module": "@jupyter-widgets/output"
          }
        },
        "c94c812940d44fa085f021e5618392df": {
          "model_module": "@jupyter-widgets/controls",
          "model_name": "SliderStyleModel",
          "state": {
            "_view_name": "StyleView",
            "handle_color": null,
            "_model_name": "SliderStyleModel",
            "description_width": "",
            "_view_module": "@jupyter-widgets/base",
            "_model_module_version": "1.5.0",
            "_view_count": null,
            "_view_module_version": "1.2.0",
            "_model_module": "@jupyter-widgets/controls"
          }
        },
        "ce0fa6da22a1438daebf795335dc9fef": {
          "model_module": "@jupyter-widgets/base",
          "model_name": "LayoutModel",
          "state": {
            "_view_name": "LayoutView",
            "grid_template_rows": null,
            "right": null,
            "justify_content": null,
            "_view_module": "@jupyter-widgets/base",
            "overflow": null,
            "_model_module_version": "1.2.0",
            "_view_count": null,
            "flex_flow": null,
            "width": null,
            "min_width": null,
            "border": null,
            "align_items": null,
            "bottom": null,
            "_model_module": "@jupyter-widgets/base",
            "top": null,
            "grid_column": null,
            "overflow_y": null,
            "overflow_x": null,
            "grid_auto_flow": null,
            "grid_area": null,
            "grid_template_columns": null,
            "flex": null,
            "_model_name": "LayoutModel",
            "justify_items": null,
            "grid_row": null,
            "max_height": null,
            "align_content": null,
            "visibility": null,
            "align_self": null,
            "height": null,
            "min_height": null,
            "padding": null,
            "grid_auto_rows": null,
            "grid_gap": null,
            "max_width": null,
            "order": null,
            "_view_module_version": "1.2.0",
            "grid_template_areas": null,
            "object_position": null,
            "object_fit": null,
            "grid_auto_columns": null,
            "margin": null,
            "display": null,
            "left": null
          }
        },
        "e37d5e3d732e4ac2a7ad48a8e085a4e9": {
          "model_module": "@jupyter-widgets/base",
          "model_name": "LayoutModel",
          "state": {
            "_view_name": "LayoutView",
            "grid_template_rows": null,
            "right": null,
            "justify_content": null,
            "_view_module": "@jupyter-widgets/base",
            "overflow": null,
            "_model_module_version": "1.2.0",
            "_view_count": null,
            "flex_flow": null,
            "width": null,
            "min_width": null,
            "border": null,
            "align_items": null,
            "bottom": null,
            "_model_module": "@jupyter-widgets/base",
            "top": null,
            "grid_column": null,
            "overflow_y": null,
            "overflow_x": null,
            "grid_auto_flow": null,
            "grid_area": null,
            "grid_template_columns": null,
            "flex": null,
            "_model_name": "LayoutModel",
            "justify_items": null,
            "grid_row": null,
            "max_height": null,
            "align_content": null,
            "visibility": null,
            "align_self": null,
            "height": null,
            "min_height": null,
            "padding": null,
            "grid_auto_rows": null,
            "grid_gap": null,
            "max_width": null,
            "order": null,
            "_view_module_version": "1.2.0",
            "grid_template_areas": null,
            "object_position": null,
            "object_fit": null,
            "grid_auto_columns": null,
            "margin": null,
            "display": null,
            "left": null
          }
        }
      }
    }
  },
  "cells": [
    {
      "cell_type": "markdown",
      "metadata": {
        "id": "q8jVdIiVNkoz"
      },
      "source": [
        "# Курс \"Практикум по математической статистике\"\n",
        "# 3 курс ФПМИ МФТИ, осень 2020\n",
        "## Домашнее задание 6. Проверка гипотез.\n",
        "### Дедлайн --- 21 декабря 9:00\n",
        "\n",
        "Мы предлагаем выполнять задания прямо в этом ноутбуке. Пожалуйста, не стирайте условия задач.\n",
        "\n",
        "Информация о выполнении и курсе в целом есть в <a href=https://docs.google.com/document/d/1kd85QRAS8fbxRxpMzP2IsbQ_YcVsU-Aczqd6ErXgIDg/edit#>этой папке</a>.\n",
        "\n",
        "Настоятельно рекомендуемая форма оформления домашних заданий — это Jupyter Notebook и его pdf-версия с:\n",
        "\n",
        "* условием задачи,\n",
        "* решением (если требуется некоторый теоретический вывод),\n",
        "* описанием плана решения, который потом реализуется в коде, \n",
        "* собственно кодом, \n",
        "* построенными графиками (если это требуется) и **выводом**, который как правило должен заключаться в объяснении практических результатов с использованием теоретических фактов. ***Вывод требуется даже в том случае, если в условии об этом явно не сказано!***\n",
        "* некоторыми другими вещами, если об этом будет указано в задании.\n",
        "\n",
        "Оценка за каждую задачу складывается из правильного выполнения всех этих пунктов. Закрывая на них глаза, вы сознательно понижаете свою оценку.\n",
        "\n",
        "Каждая задача оценивается **в 10 баллов**."
      ]
    },
    {
      "cell_type": "code",
      "metadata": {
        "id": "-FeUzUPcDKvy"
      },
      "source": [
        "import numpy as np\n",
        "\n",
        "import seaborn as sns\n",
        "\n",
        "from matplotlib import pyplot as plt\n",
        "\n",
        "from ipywidgets import interactive\n",
        "from IPython import display\n",
        "\n",
        "from scipy import stats as sps\n",
        "\n",
        "sns.set(style=\"whitegrid\", font_scale=1.4)"
      ],
      "execution_count": 1,
      "outputs": []
    },
    {
      "cell_type": "markdown",
      "metadata": {
        "id": "wYfDBGfvDD41"
      },
      "source": [
        "## Задание 1 (Корреляция)\n",
        "\n",
        "В этом задании вы на практике увидите, как коэффициенты корреляции реагируют на выбросы в данных, а также познакомитесь с виджетами. Если некоторые импорты поломались, то продолжите работу в [колабе](https://colab.research.google.com).\n",
        "\n",
        "Итак, наша задача – сгенерировать (почти) линейно зависимую выборку выборку и добавить в нее выбросы.\n",
        "\n",
        "Начнем с первого: сгенерируйте выборку из двух столбцов \n",
        "$$\n",
        "Y = 10 \\cdot X + \\varepsilon\n",
        "$$\n",
        "где $X$ и $\\varepsilon$ из стандартного нормального распределения. Выборка состоит из двух столбцов $X$ и $Y$. **Размер выборки — 100 элементов**.\n",
        "\n",
        "*Совет:* в данном случае проще использовать `np.random.randn` и `np.hstack`."
      ]
    },
    {
      "cell_type": "code",
      "metadata": {
        "id": "jobJT_ocup1p"
      },
      "source": [
        "def generate_linear_sample():\n",
        "    np.random.seed(42)\n",
        "    size=100\n",
        "    data_x = np.array([np.random.randn(size)]).T\n",
        "    data_y = 10 * data_x + np.array([np.random.randn(size)]).T\n",
        "    data = np.hstack((data_x, data_y))\n",
        "    return data"
      ],
      "execution_count": 2,
      "outputs": []
    },
    {
      "cell_type": "markdown",
      "metadata": {
        "id": "-uMcby9zwSu_"
      },
      "source": [
        "Теперь займемся выбросами (outliers). Генерировать их будем следующим образом: для первых `outliers_num` элементов мы поменяем значение $X$ на случайную величину из стандартного распределения (`np.random.randn`), а значение $Y$ сделаем равное `outlier_bias`."
      ]
    },
    {
      "cell_type": "code",
      "metadata": {
        "id": "nKVk_TNTwMUB"
      },
      "source": [
        "def add_outliers(\n",
        "    data: np.ndarray, outliers_num: int, outlier_bias: float\n",
        ") -> np.ndarray:\n",
        "        np.random.seed(42)\n",
        "        # YOUR_CODE_MAYBE_GOES_HERE\n",
        "        data[list(range(outliers_num))] = np.hstack(\n",
        "            (np.array([np.random.randn(outliers_num)]).T, np.array([np.repeat(outlier_bias, outliers_num)]).T)\n",
        "        )\n",
        "        return data"
      ],
      "execution_count": 3,
      "outputs": []
    },
    {
      "cell_type": "markdown",
      "metadata": {
        "id": "MrJE8eNMxl_T"
      },
      "source": [
        "Теперь создадим функцию, которая генерирует выборку и считает коэффициенты корреляции. Итак, посчитайте коэффициенты корреляции Пирсона и Спирмана, а так же уровень достигаемой значимости при проверки гипотезы о некоррелированности $X$ и $Y$ для каждого из коэффициентов (все делается одной функцией из `scipy.stats`). Затем в этой же функции постройте график (scatter). Отметьте все выбросы красным, а остальные точки синим. **В заголовке графика** напишите коэффициенты корреляции, округленные до четырех знаков после запятой. Например так \n",
        "```\n",
        "f\"Pearson correlation {p_corr:.4f}\\n Spearman correlation {s_corr:.4f}\"\n",
        "```\n",
        "И верните уровни достигаемой значимости (**p-value**) критериев о некоррелированности."
      ]
    },
    {
      "cell_type": "code",
      "metadata": {
        "id": "56N3TjIWEMNc"
      },
      "source": [
        "def plot_correlation(\n",
        "    outliers_num: int = 2, outlier_bias: float = 10, show=True\n",
        "):\n",
        "    np.random.seed(42)\n",
        "    data = generate_linear_sample()\n",
        "    data = add_outliers(data, outliers_num, outlier_bias)\n",
        "    plt.figure(figsize=(12, 8))\n",
        "    p_corr, p_p_val = sps.pearsonr(data[:, 0], data[:, 1])\n",
        "    s_corr, s_p_val = sps.spearmanr(data[:, 0], data[:, 1])\n",
        "    plt.title(\n",
        "        f\"Pearson correlation {p_corr:.4f}\\n Spearman correlation {s_corr:.4f}\"\n",
        "    )\n",
        "    plt.xlabel('X')\n",
        "    plt.ylabel('Y')\n",
        "    plt.scatter(data[:outliers_num, 0], data[:outliers_num, 1], color='r', label='outliers')\n",
        "    plt.scatter(data[outliers_num:, 0], data[outliers_num:, 1], color='b', label='regular')\n",
        "    plt.legend()\n",
        "    if show:\n",
        "        plt.show()\n",
        "    else:\n",
        "        plt.close()\n",
        "    return p_p_val, s_p_val"
      ],
      "execution_count": 4,
      "outputs": []
    },
    {
      "cell_type": "markdown",
      "metadata": {
        "id": "ICfvep2Qz0qY"
      },
      "source": [
        "Чтобы убедится, что все ок, вызовите функцию с параметрами по умолчанию ниже."
      ]
    },
    {
      "cell_type": "code",
      "metadata": {
        "id": "AgADh4lv0Gyv",
        "colab": {
          "base_uri": "https://localhost:8080/",
          "height": 570
        },
        "outputId": "a8935e48-32a5-48ca-8cb6-1f004c195388"
      },
      "source": [
        "plot_correlation()"
      ],
      "execution_count": 5,
      "outputs": [
        {
          "output_type": "display_data",
          "data": {
            "image/png": "[encoded data removed]",
            "text/plain": [
              "<Figure size 864x576 with 1 Axes>"
            ]
          },
          "metadata": {
            "tags": [],
            "needs_background": "light"
          }
        },
        {
          "output_type": "execute_result",
          "data": {
            "text/plain": [
              "(2.920497051061722e-77, 2.2377121996722538e-73)"
            ]
          },
          "metadata": {
            "tags": []
          },
          "execution_count": 5
        }
      ]
    },
    {
      "cell_type": "markdown",
      "metadata": {
        "id": "bOaB-IJr0JJc"
      },
      "source": [
        "Часто, чтобы смотреть за изменением величин в зависимости от параметров бывает удобно использовать виджеты. Мы будем пользоваться самой простой функцией из этой библиотеки – `interactive`. Она позволяет быстро создать ползунки соответствующие аргументу функции, нужно лишь указать краевые значения параметров."
      ]
    },
    {
      "cell_type": "code",
      "metadata": {
        "id": "lxjfloLH4wJv"
      },
      "source": [
        "v = interactive(\n",
        "    plot_correlation, outliers_num=(1, 10), outlier_bias=(-300., 300.)\n",
        ")"
      ],
      "execution_count": 6,
      "outputs": []
    },
    {
      "cell_type": "markdown",
      "metadata": {
        "id": "6EaJgvG500YT"
      },
      "source": [
        "После этого осталось лишь отобразить наш виджет."
      ]
    },
    {
      "cell_type": "code",
      "metadata": {
        "id": "uY8savMS4yj8",
        "colab": {
          "base_uri": "https://localhost:8080/",
          "height": 649,
          "referenced_widgets": [
            "3d066fb58bef42b3a21a698ffb3b86e7",
            "a4d9c3ebcda248ac9ba59dd66723cbd4",
            "71e6a2327d894a92ab203ce2173abeb2",
            "759f3ebb24f7485ca5a5f0204747e7b7",
            "4cea953148e44b2b9fe7cb9a38b0f329",
            "162195898eca45ba88d7bf3eb3afd9b1",
            "4169618a1d9f4ba8b0b269f531b277db",
            "bc7a6f25b8b34a81aa688b588c3ccc97",
            "c134b723ca0a4d24b759f20769b514a9",
            "68d2774f903c4ea490c835d90aa02ad2",
            "26f4e94aa9944afaa20e6dbc6bf5f92b",
            "168d80a1f95d4e4fbc276ae928ef8526",
            "5ae22650af7c44a4af2adfa8db9ded76"
          ]
        },
        "outputId": "c732fbd1-c104-4721-ab5a-42534384638b"
      },
      "source": [
        "display.display(v)"
      ],
      "execution_count": 7,
      "outputs": [
        {
          "output_type": "display_data",
          "data": {
            "application/vnd.jupyter.widget-view+json": {
              "model_id": "3d066fb58bef42b3a21a698ffb3b86e7",
              "version_minor": 0,
              "version_major": 2
            },
            "text/plain": [
              "interactive(children=(IntSlider(value=2, description='outliers_num', max=10, min=1), FloatSlider(value=10.0, d…"
            ]
          },
          "metadata": {
            "tags": []
          }
        }
      ]
    },
    {
      "cell_type": "markdown",
      "metadata": {
        "id": "WmkhYahA05i-"
      },
      "source": [
        "Поиграйтесь с ползунками, посмотрите как коэффициенты корреляции реагируют на выбросы. Сделайте вывод.\n",
        "\n",
        "**Вывод:** Зависимость выборок почти линейная. Следовательно, коэффициент корреляции должен быть близким к $1$.\n",
        "\n",
        "Так как коэффициент корреляции Пирсона обращает внимание на значения элементов выборок, он крайне чувствителен к выбросам. Если выбросы сделать отрицательными и большими по модулю, можно получить даже отрицательные значения, то есть якобы обратную корреляцию.\n",
        "\n",
        "Коэффициент корреляции Спирмэна не обращает внимание на сами значения: только на их ранги. Благодаря этому он менее чувствителен к выбросам, но всё равно: при 10% выбросов с большим по модулю отрицательным значением коэффициент корреляции Спирмэна $\\approx 0.7$."
      ]
    },
    {
      "cell_type": "markdown",
      "metadata": {
        "id": "MJ8XOdjY1FI-"
      },
      "source": [
        "Давайте зафиксируем число выбросов `outliers_num=5`. Для параметра `outlier_bias` в интервале от $-300$ до $0$ (`np.linspace`)  посчитайте значения `p_value` (достигаемый уровень значимости) для обоих критериев. Постройте график зависимости `p_value` от **модуля** отклонения остатков (`outlier_bias`). Должны получиться две линии для двух коэффициентов корреляции. А также постройте вспомогательную красную линию `plt.hlines` на уровне $0.05$. Не забудьте про легенду!"
      ]
    },
    {
      "cell_type": "code",
      "metadata": {
        "id": "IS9VYlwqE8Rw"
      },
      "source": [
        "x = np.linspace(0, -300, 100)\n",
        "samples = [add_outliers(generate_linear_sample(), 5, bias) for bias in x]\n",
        "# p_values = # p_values for pearson and spearman\n",
        "p_values = [\n",
        "    [sps.pearsonr(sample[:, 0], sample[:, 1])[1] for sample in samples],\n",
        "    [sps.spearmanr(sample[:, 0], sample[:, 1])[1] for sample in samples]\n",
        "]"
      ],
      "execution_count": 8,
      "outputs": []
    },
    {
      "cell_type": "code",
      "metadata": {
        "id": "Zn55zDglF95p",
        "colab": {
          "base_uri": "https://localhost:8080/",
          "height": 533
        },
        "outputId": "fc943098-e3c1-4849-ef5b-dfc4b69f0de6"
      },
      "source": [
        "plt.figure(figsize=(12, 8))\r\n",
        "plt.title(r'Количество выбросов: 5')\r\n",
        "plt.xlabel('Величина выбросов')\r\n",
        "plt.ylabel('Достигаемый уровень значимости')\r\n",
        "plt.plot(np.abs(x), p_values[0], lw=3, label='Коэффициент корреляции Пирсона')\r\n",
        "plt.plot(np.abs(x), p_values[1], lw=3, label='Коэффициент корреляции Спирмэна')\r\n",
        "plt.hlines(\r\n",
        "    0.05,\r\n",
        "    np.min(np.abs(x)),\r\n",
        "    np.max(np.abs(x)),\r\n",
        "    linestyles='dashed',\r\n",
        "    lw=4,\r\n",
        "    color='r',\r\n",
        "    label='Уровень значимости 0.05'\r\n",
        ")\r\n",
        "plt.legend()\r\n",
        "plt.show()"
      ],
      "execution_count": 9,
      "outputs": [
        {
          "output_type": "display_data",
          "data": {
            "image/png": "[encoded data removed]",
            "text/plain": [
              "<Figure size 864x576 with 1 Axes>"
            ]
          },
          "metadata": {
            "tags": [],
            "needs_background": "light"
          }
        }
      ]
    },
    {
      "cell_type": "markdown",
      "metadata": {
        "id": "3gVq5Jj82fQP"
      },
      "source": [
        "Сделайте вывод по полученному графику.\n",
        "\n",
        "**Вывод:** При больших по модулю выбросах достигаемый уровень значимости коэффициента корреляции Пирсона начинает сильно расти вплоть до 1. Это значит, что он становится очень неточным или даже вовсе неприменимым.\n",
        "\n",
        "Коэффициент корреляции Спирмэна же, напротив, даже при больших выбросах сохраняет низкий, близкий к нулю уровень значимости, то есть очень точен.\n",
        "\n",
        "Это снова может быть объяснено тем, что коэффициент корреляции Пирсона учитывает величины выборки напрямую, то есть сильно от них зависит, в то время как коэффициент корреляции Спирмэна учитывает лишь их ранг, поэтому более устойчив к выбросам."
      ]
    },
    {
      "cell_type": "markdown",
      "metadata": {
        "id": "_VXvO7c5DJR-"
      },
      "source": [
        "## Задание 2 (Мощность критерия)\n",
        "\n",
        "В реальной жизни аналитика самая распространенная задача это A/B-тестирование. Оно применяется практически везде, где это возможно. Идея проста: разбиваем людей на две группы A и B. Группе A мы даем продукт без изменений (принято называть эту группу `placebo`, даже когда речь не идет о медицине), а группе B (`treatment`) мы даем продукт, с каким-то изменением. Мы хотим понять, полезно ли нам предложенное изменение. Поэтому мы считаем какую-то метрику для двух этих групп и пытаемся понять, значимо ли изменение. Однако важный вопрос понять необходимый размер групп A и B.\n",
        "\n",
        "\n",
        "Давайте представим себе такой случай: студент ведет два паблика с мемами. Один про лектора по статам, а другой про лектора по теории меры. Но наступает сессия, и времени у него остается немного, поэтому он думает о том чтобы закрыть первый паблик, потому что мемы в нем уже не актуальны и лайкают их мало. Вы, как опытный эксперт, можете довольно точно прикинуть распределение лайков под записями. По вашему мнению оба распределения нормальные. Для первого паблика: $\\mu_1 = 35$ $\\sigma_1 = 30$, для второго: $\\mu_2 = 55$ $\\sigma_2 = 30$. Считаем, что аудитории пабликов не пересекаются. Вы хотите убедить студента, что ему выгодно закрывать именно первый паблик и сконцентрироваться на втором, но он вам не верит и требует статистически доказать правоту: он требует, чтобы мощность критерия была не менее не менее $0.95$, а уровень значимости $\\alpha = 0.05$. Вы предлагаете ему следующий сценарий: чтобы избежать влияние других факторов нужно выкладывать мемы в двух пабликах одновременно раз в день. Необходимо понять сколько дней требуется для подведения итогов.\n",
        "\n",
        "Введем обозначения для количества лайков: $X$ ~ $N(\\mu_1, \\sigma^2_1)$; $Y$ ~ $N(\\mu_2, \\sigma^2_2)$.\n",
        "\n",
        "Для проверки гиоптезы вы предложили воспользоваться Z-критерием для односторонней альтернативы:\n",
        "\n",
        "$H_0: \\mu_1 = \\mu_2$ vs $H_1: \\mu_2 > \\mu_1$.\n",
        "\n",
        "Статистика этого критерия выглядит так: $$\\dfrac{\\overline{Y} - \\overline{X}}{\\sigma / \\sqrt{n}} = \\dfrac{\\overline{Y}}{\\sigma/\\sqrt{n}} - \\dfrac{\\overline{X}}{\\sigma / \\sqrt{n}}.$$\n",
        "\n",
        "Напишите функцию которая строит плотности $\\overline{X}$ и $\\overline{Y}$ в зависимости от $n$ красным и синим цветом соответственно. **Не гистограмму или kde, а именно теоретическую плотность.** Так же закрасьте область соответствующую ошибке первого рода красным ($\\alpha$), а ошибке второго рода синим ($\\beta$) (`plt.fill_between`). В заголовке напишите мощность критерия ($1 - \\beta$).\n",
        "\n",
        "Должен получится примерно такой график:\n",
        "\n",
        "![](https://i.ibb.co/m032vj1/Unknown-3.png)\n",
        "\n"
      ]
    },
    {
      "cell_type": "code",
      "metadata": {
        "id": "_T68rCCR_4A6"
      },
      "source": [
        "def plot_power_and_pvalue(\n",
        "    n: int = 100, \n",
        "    mu_1: float = 35, \n",
        "    mu_2: float = 55, \n",
        "    sigma_1: float = 30, \n",
        "    sigma_2: float = 30, \n",
        "    alpha: float = 0.05,\n",
        "    show: bool = True,\n",
        "):\n",
        "    assert mu_1 < mu_2\n",
        "    assert n > 0\n",
        "    sigma_n_1 = sigma_1 / np.sqrt(n)\n",
        "    sigma_n_2 = sigma_2 / np.sqrt(n)\n",
        "    x = np.linspace(-3*sigma_n_1, mu_2+3*sigma_n_2, 200)\n",
        "    pdf_n_1 = sps.norm(mu_1, sigma_n_1).pdf\n",
        "    pdf_n_2 = sps.norm(mu_2, sigma_n_2).pdf\n",
        "    quantile = sps.norm(loc=mu_1, scale=sigma_n_1).ppf(1-alpha)\n",
        "    beta = sps.norm(loc=mu_2, scale=sigma_n_2).cdf(quantile)\n",
        "    # PLOT (plot, fill_between, vlines)\n",
        "    plt.figure(figsize=(12, 8))\n",
        "    plt.title(f'z-test power: {np.round(1-beta, 4)}')\n",
        "    plt.plot(x, pdf_n_1(x), color='r', label='First public')\n",
        "    plt.plot(x, pdf_n_2(x), color='b', label='Second public')\n",
        "    plt.vlines(\n",
        "        quantile,\n",
        "        0, np.max(np.hstack((pdf_n_1(x), pdf_n_2(x)))),\n",
        "        linestyles='dashed', color='r', label=r'$\\alpha = 0.05$'\n",
        "    )\n",
        "    type1_error_x = np.linspace(quantile, x[-1], 100)\n",
        "    plt.fill_between(type1_error_x, pdf_n_1(type1_error_x), alpha=0.3, color='r')\n",
        "    type2_error_x = np.linspace(x[0], quantile, 100)\n",
        "    plt.fill_between(type2_error_x, pdf_n_2(type2_error_x), alpha=0.3, color='b')\n",
        "\n",
        "    if show:\n",
        "        plt.legend()\n",
        "        plt.show()\n",
        "    else:\n",
        "        plt.close()\n",
        "    \n",
        "    return beta"
      ],
      "execution_count": 10,
      "outputs": []
    },
    {
      "cell_type": "markdown",
      "metadata": {
        "id": "QD5qcbjqB24i"
      },
      "source": [
        "Запустите функцию с параметрами по умолчанию для проверки."
      ]
    },
    {
      "cell_type": "code",
      "metadata": {
        "id": "XdIUEKqwB8vI",
        "colab": {
          "base_uri": "https://localhost:8080/",
          "height": 527
        },
        "outputId": "282812a8-5053-4ce5-a7ff-cdd6aa1f73de"
      },
      "source": [
        "plot_power_and_pvalue()"
      ],
      "execution_count": 11,
      "outputs": [
        {
          "output_type": "display_data",
          "data": {
            "image/png": "[encoded data removed]",
            "text/plain": [
              "<Figure size 864x576 with 1 Axes>"
            ]
          },
          "metadata": {
            "tags": [],
            "needs_background": "light"
          }
        },
        {
          "output_type": "execute_result",
          "data": {
            "text/plain": [
              "2.55929977464261e-07"
            ]
          },
          "metadata": {
            "tags": []
          },
          "execution_count": 11
        }
      ]
    },
    {
      "cell_type": "markdown",
      "metadata": {
        "id": "IBH-Rem-CEZu"
      },
      "source": [
        "Теперь снова поиграйтесь с ползунком."
      ]
    },
    {
      "cell_type": "code",
      "metadata": {
        "id": "Q0dOpF93WM4a"
      },
      "source": [
        "v = interactive(\n",
        "    lambda n: plot_power_and_pvalue(n), n=(10, 100)\n",
        ")"
      ],
      "execution_count": 12,
      "outputs": []
    },
    {
      "cell_type": "code",
      "metadata": {
        "id": "doTVMfxSWOLQ",
        "colab": {
          "base_uri": "https://localhost:8080/",
          "height": 542,
          "referenced_widgets": [
            "15c8b3ec43514db18de2447850303d1e",
            "fa5aeb395cfa4407aad885b5cb9846ae",
            "8ae3ce61081d4d3d8146dc38162833a6",
            "6896310d44c34832b407e6cd8afac4ae",
            "c94c812940d44fa085f021e5618392df",
            "ce0fa6da22a1438daebf795335dc9fef",
            "e37d5e3d732e4ac2a7ad48a8e085a4e9"
          ]
        },
        "outputId": "afe03383-ddc8-468c-857d-765755ddbb0e"
      },
      "source": [
        "display.display(v)"
      ],
      "execution_count": 13,
      "outputs": [
        {
          "output_type": "display_data",
          "data": {
            "application/vnd.jupyter.widget-view+json": {
              "model_id": "15c8b3ec43514db18de2447850303d1e",
              "version_minor": 0,
              "version_major": 2
            },
            "text/plain": [
              "interactive(children=(IntSlider(value=55, description='n', min=10), Output()), _dom_classes=('widget-interact'…"
            ]
          },
          "metadata": {
            "tags": []
          }
        }
      ]
    },
    {
      "cell_type": "markdown",
      "metadata": {
        "id": "Xa3OdYncCci2"
      },
      "source": [
        "Сколько дней нужно для достижения мощности критерия $\\geq 0.95$ на уровне $\\alpha=0.05$?\n",
        "\n",
        "**Ответ:** 25 дней"
      ]
    },
    {
      "cell_type": "code",
      "metadata": {
        "id": "t8VL5_I6YHeo"
      },
      "source": [
        ""
      ],
      "execution_count": 13,
      "outputs": []
    }
  ]
}